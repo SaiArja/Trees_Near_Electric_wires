{
  "nbformat": 4,
  "nbformat_minor": 0,
  "metadata": {
    "colab": {
      "name": "Electrical_lines.ipynb",
      "provenance": [],
      "collapsed_sections": [],
      "mount_file_id": "1rv0YY5AEiWiM5Yl2LGaZAkrSVlRmQt-f",
      "authorship_tag": "ABX9TyNNJwfuJRhpJOoCKu1SqevR",
      "include_colab_link": true
    },
    "kernelspec": {
      "name": "python3",
      "display_name": "Python 3"
    },
    "language_info": {
      "name": "python"
    },
    "accelerator": "GPU"
  },
  "cells": [
    {
      "cell_type": "markdown",
      "metadata": {
        "id": "view-in-github",
        "colab_type": "text"
      },
      "source": [
        "<a href=\"https://colab.research.google.com/github/SaiArja/Trees_Near_Electric_wires/blob/main/Electrical_lines.ipynb\" target=\"_parent\"><img src=\"https://colab.research.google.com/assets/colab-badge.svg\" alt=\"Open In Colab\"/></a>"
      ]
    },
    {
      "cell_type": "markdown",
      "source": [
        "***Clasification of Trees which are near to the Electrical Lines***"
      ],
      "metadata": {
        "id": "mMGeet4HGqHG"
      }
    },
    {
      "cell_type": "markdown",
      "source": [
        "***Intution***"
      ],
      "metadata": {
        "id": "V-zwofJEHXYR"
      }
    },
    {
      "cell_type": "markdown",
      "source": [
        "Trees that grow too close to electric lines are a hazard. They can cause power outages or momentary power interruptions when branches touch overhead lines. Electrical arcing and sparking from a wire to a nearby branch can cause fires.When any part of a tree is electrified, the current passes through the tree’s tissues and into the ground. Similar to what happens with a lightning strike, the electricity superheats any moisture in the tree. Steam and boiling sap can erupt from the tree, taking bark, wood, and branches with it. Anything that’s touching the tree and the ground (like a person) will also act as a conductor. Energy will flow through the object or person, with similar outcomes as the tree."
      ],
      "metadata": {
        "id": "-ohyIn-KGzsZ"
      }
    },
    {
      "cell_type": "markdown",
      "source": [
        "Data Description"
      ],
      "metadata": {
        "id": "s2gUQfL4Ha_N"
      }
    },
    {
      "cell_type": "markdown",
      "source": [
        "We have the colour images of the trees touching electric lines and trees not touching the electric lines and labels given in the csv file with image paths"
      ],
      "metadata": {
        "id": "UjfyG2n_HgFF"
      }
    },
    {
      "cell_type": "markdown",
      "source": [
        "**Plan Of Action**"
      ],
      "metadata": {
        "id": "IlDBMfJrHf7_"
      }
    },
    {
      "cell_type": "markdown",
      "source": [
        "The plan is to build a deep learning model that can clasify the trees touching the electrical lines. \n",
        "\n",
        "We will be using Transfer learning for creating the required model"
      ],
      "metadata": {
        "id": "etM9si9VIIza"
      }
    },
    {
      "cell_type": "markdown",
      "source": [
        "**Importing the Required Libraries**"
      ],
      "metadata": {
        "id": "GqCXfb3Xbb3-"
      }
    },
    {
      "cell_type": "code",
      "execution_count": 1,
      "metadata": {
        "id": "bP8SqUnHZ3Gn"
      },
      "outputs": [],
      "source": [
        "import numpy as np\n",
        "import pandas as pd\n",
        "import matplotlib.pyplot as plt\n",
        "from tensorflow.keras.applications.xception import Xception #Xception architecture\n",
        "from tensorflow.keras.preprocessing import image\n",
        "from keras.layers import Dense, GlobalAveragePooling2D, Input, Flatten, Dropout, BatchNormalization\n",
        "from keras.models import Model, Sequential\n",
        "from keras.applications.imagenet_utils import preprocess_input\n",
        "from keras.preprocessing import image\n",
        "# from keras.optimizers import adam\n",
        "from tensorflow.keras.optimizers import Adam # - Works\n",
        "from keras.preprocessing.image import ImageDataGenerator\n",
        "from keras.callbacks import ModelCheckpoint, ReduceLROnPlateau, EarlyStopping\n",
        "import tensorflow as tf"
      ]
    },
    {
      "cell_type": "markdown",
      "source": [
        "Reading the Labels file as a Data Frame"
      ],
      "metadata": {
        "id": "dMzbqIZvbgcc"
      }
    },
    {
      "cell_type": "code",
      "source": [
        "#read the csv file as DataFrame\n",
        "data_label = pd.read_csv('/content/drive/MyDrive/DataSets/DeepLearning/detect_trees_near_electric_wires/train.csv')"
      ],
      "metadata": {
        "id": "HPPbofiead00"
      },
      "execution_count": 2,
      "outputs": []
    },
    {
      "cell_type": "markdown",
      "source": [
        "Seeing the First 5 rows of the dataFrame"
      ],
      "metadata": {
        "id": "KuBxFQBCbk0j"
      }
    },
    {
      "cell_type": "code",
      "source": [
        "#head() to see first 5 rows of the data\n",
        "data_label.head()"
      ],
      "metadata": {
        "colab": {
          "base_uri": "https://localhost:8080/",
          "height": 206
        },
        "id": "wNjXnWeta-v-",
        "outputId": "654bbdcc-033b-4bfa-95b8-df679b2758b4"
      },
      "execution_count": 3,
      "outputs": [
        {
          "output_type": "execute_result",
          "data": {
            "text/plain": [
              "     file_name  Intersection\n",
              "0  Image_1.jpg             0\n",
              "1  Image_2.jpg             1\n",
              "2  Image_3.jpg             1\n",
              "3  Image_4.jpg             1\n",
              "4  Image_5.jpg             1"
            ],
            "text/html": [
              "\n",
              "  <div id=\"df-3f0a3f64-b8b0-4a7e-b8c4-16c19602aba4\">\n",
              "    <div class=\"colab-df-container\">\n",
              "      <div>\n",
              "<style scoped>\n",
              "    .dataframe tbody tr th:only-of-type {\n",
              "        vertical-align: middle;\n",
              "    }\n",
              "\n",
              "    .dataframe tbody tr th {\n",
              "        vertical-align: top;\n",
              "    }\n",
              "\n",
              "    .dataframe thead th {\n",
              "        text-align: right;\n",
              "    }\n",
              "</style>\n",
              "<table border=\"1\" class=\"dataframe\">\n",
              "  <thead>\n",
              "    <tr style=\"text-align: right;\">\n",
              "      <th></th>\n",
              "      <th>file_name</th>\n",
              "      <th>Intersection</th>\n",
              "    </tr>\n",
              "  </thead>\n",
              "  <tbody>\n",
              "    <tr>\n",
              "      <th>0</th>\n",
              "      <td>Image_1.jpg</td>\n",
              "      <td>0</td>\n",
              "    </tr>\n",
              "    <tr>\n",
              "      <th>1</th>\n",
              "      <td>Image_2.jpg</td>\n",
              "      <td>1</td>\n",
              "    </tr>\n",
              "    <tr>\n",
              "      <th>2</th>\n",
              "      <td>Image_3.jpg</td>\n",
              "      <td>1</td>\n",
              "    </tr>\n",
              "    <tr>\n",
              "      <th>3</th>\n",
              "      <td>Image_4.jpg</td>\n",
              "      <td>1</td>\n",
              "    </tr>\n",
              "    <tr>\n",
              "      <th>4</th>\n",
              "      <td>Image_5.jpg</td>\n",
              "      <td>1</td>\n",
              "    </tr>\n",
              "  </tbody>\n",
              "</table>\n",
              "</div>\n",
              "      <button class=\"colab-df-convert\" onclick=\"convertToInteractive('df-3f0a3f64-b8b0-4a7e-b8c4-16c19602aba4')\"\n",
              "              title=\"Convert this dataframe to an interactive table.\"\n",
              "              style=\"display:none;\">\n",
              "        \n",
              "  <svg xmlns=\"http://www.w3.org/2000/svg\" height=\"24px\"viewBox=\"0 0 24 24\"\n",
              "       width=\"24px\">\n",
              "    <path d=\"M0 0h24v24H0V0z\" fill=\"none\"/>\n",
              "    <path d=\"M18.56 5.44l.94 2.06.94-2.06 2.06-.94-2.06-.94-.94-2.06-.94 2.06-2.06.94zm-11 1L8.5 8.5l.94-2.06 2.06-.94-2.06-.94L8.5 2.5l-.94 2.06-2.06.94zm10 10l.94 2.06.94-2.06 2.06-.94-2.06-.94-.94-2.06-.94 2.06-2.06.94z\"/><path d=\"M17.41 7.96l-1.37-1.37c-.4-.4-.92-.59-1.43-.59-.52 0-1.04.2-1.43.59L10.3 9.45l-7.72 7.72c-.78.78-.78 2.05 0 2.83L4 21.41c.39.39.9.59 1.41.59.51 0 1.02-.2 1.41-.59l7.78-7.78 2.81-2.81c.8-.78.8-2.07 0-2.86zM5.41 20L4 18.59l7.72-7.72 1.47 1.35L5.41 20z\"/>\n",
              "  </svg>\n",
              "      </button>\n",
              "      \n",
              "  <style>\n",
              "    .colab-df-container {\n",
              "      display:flex;\n",
              "      flex-wrap:wrap;\n",
              "      gap: 12px;\n",
              "    }\n",
              "\n",
              "    .colab-df-convert {\n",
              "      background-color: #E8F0FE;\n",
              "      border: none;\n",
              "      border-radius: 50%;\n",
              "      cursor: pointer;\n",
              "      display: none;\n",
              "      fill: #1967D2;\n",
              "      height: 32px;\n",
              "      padding: 0 0 0 0;\n",
              "      width: 32px;\n",
              "    }\n",
              "\n",
              "    .colab-df-convert:hover {\n",
              "      background-color: #E2EBFA;\n",
              "      box-shadow: 0px 1px 2px rgba(60, 64, 67, 0.3), 0px 1px 3px 1px rgba(60, 64, 67, 0.15);\n",
              "      fill: #174EA6;\n",
              "    }\n",
              "\n",
              "    [theme=dark] .colab-df-convert {\n",
              "      background-color: #3B4455;\n",
              "      fill: #D2E3FC;\n",
              "    }\n",
              "\n",
              "    [theme=dark] .colab-df-convert:hover {\n",
              "      background-color: #434B5C;\n",
              "      box-shadow: 0px 1px 3px 1px rgba(0, 0, 0, 0.15);\n",
              "      filter: drop-shadow(0px 1px 2px rgba(0, 0, 0, 0.3));\n",
              "      fill: #FFFFFF;\n",
              "    }\n",
              "  </style>\n",
              "\n",
              "      <script>\n",
              "        const buttonEl =\n",
              "          document.querySelector('#df-3f0a3f64-b8b0-4a7e-b8c4-16c19602aba4 button.colab-df-convert');\n",
              "        buttonEl.style.display =\n",
              "          google.colab.kernel.accessAllowed ? 'block' : 'none';\n",
              "\n",
              "        async function convertToInteractive(key) {\n",
              "          const element = document.querySelector('#df-3f0a3f64-b8b0-4a7e-b8c4-16c19602aba4');\n",
              "          const dataTable =\n",
              "            await google.colab.kernel.invokeFunction('convertToInteractive',\n",
              "                                                     [key], {});\n",
              "          if (!dataTable) return;\n",
              "\n",
              "          const docLinkHtml = 'Like what you see? Visit the ' +\n",
              "            '<a target=\"_blank\" href=https://colab.research.google.com/notebooks/data_table.ipynb>data table notebook</a>'\n",
              "            + ' to learn more about interactive tables.';\n",
              "          element.innerHTML = '';\n",
              "          dataTable['output_type'] = 'display_data';\n",
              "          await google.colab.output.renderOutput(dataTable, element);\n",
              "          const docLink = document.createElement('div');\n",
              "          docLink.innerHTML = docLinkHtml;\n",
              "          element.appendChild(docLink);\n",
              "        }\n",
              "      </script>\n",
              "    </div>\n",
              "  </div>\n",
              "  "
            ]
          },
          "metadata": {},
          "execution_count": 3
        }
      ]
    },
    {
      "cell_type": "markdown",
      "source": [
        "***Observation:- ***\n",
        "\n",
        "the Data Frame has two columns \n",
        "\n",
        "1.**file_name** which has file name\n",
        "\n",
        "2.**Intersection** which is a binary value which tells any contact between the electric wire and the tree(1 - contact; 0 - No Contact)"
      ],
      "metadata": {
        "id": "_xT_oLMgbroc"
      }
    },
    {
      "cell_type": "code",
      "source": [
        "#checking the class count. \n",
        "data_label['Intersection'].value_counts()"
      ],
      "metadata": {
        "colab": {
          "base_uri": "https://localhost:8080/"
        },
        "id": "9kN2PYVSbBF0",
        "outputId": "9de8af8f-40ab-4a11-fced-ac88f26fc259"
      },
      "execution_count": 4,
      "outputs": [
        {
          "output_type": "execute_result",
          "data": {
            "text/plain": [
              "1    826\n",
              "0    616\n",
              "Name: Intersection, dtype: int64"
            ]
          },
          "metadata": {},
          "execution_count": 4
        }
      ]
    },
    {
      "cell_type": "markdown",
      "source": [
        "In the Whole data we have around 826 images which are showing the trees contacting the power lines and 618 images which show that power line are not contacting the trees"
      ],
      "metadata": {
        "id": "9NMtzJ7ScJjn"
      }
    },
    {
      "cell_type": "markdown",
      "source": [
        "The data is kind of balanced now. we will see once again after splitting as train, validation, test"
      ],
      "metadata": {
        "id": "XDbeAH2hcjVl"
      }
    },
    {
      "cell_type": "code",
      "source": [
        "#Checking the number of images we have\n",
        "data_label.shape"
      ],
      "metadata": {
        "colab": {
          "base_uri": "https://localhost:8080/"
        },
        "id": "e5lEWmLcbJR0",
        "outputId": "3a80e1d4-6391-4794-da2b-02b0bc8961aa"
      },
      "execution_count": 5,
      "outputs": [
        {
          "output_type": "execute_result",
          "data": {
            "text/plain": [
              "(1442, 2)"
            ]
          },
          "metadata": {},
          "execution_count": 5
        }
      ]
    },
    {
      "cell_type": "code",
      "source": [
        "#changing the lables of the target variable from 1 and 0 to Yes and No\n",
        "data_label.Intersection = pd.Series(np.where(data_label.Intersection.values == 1, 'yes', 'no'),\n",
        "          data_label.index)"
      ],
      "metadata": {
        "id": "vo2aR4Aik8TR"
      },
      "execution_count": 6,
      "outputs": []
    },
    {
      "cell_type": "code",
      "source": [
        "#Splitting the data in to train, test, validation sets\n",
        "from sklearn.model_selection import train_test_split\n",
        "\n",
        "def split_stratified_into_train_val_test(df_input, stratify_colname='Intersection',\n",
        "                                         frac_train=0.7, frac_val=0.15, frac_test=0.15,\n",
        "                                         random_state=32):\n",
        "    '''\n",
        "    Splits a Pandas dataframe into three subsets (train, val, and test)\n",
        "    following fractional ratios provided by the user, where each subset is\n",
        "    stratified by the values in a specific column (that is, each subset has\n",
        "    the same relative frequency of the values in the column). It performs this\n",
        "    splitting by running train_test_split() twice.\n",
        "\n",
        "    Parameters\n",
        "    ----------\n",
        "    df_input : Pandas dataframe\n",
        "        Input dataframe to be split.\n",
        "    stratify_colname : str\n",
        "        The name of the column that will be used for stratification. Usually\n",
        "        this column would be for the label.\n",
        "    frac_train : float\n",
        "    frac_val   : float\n",
        "    frac_test  : float\n",
        "        The ratios with which the dataframe will be split into train, val, and\n",
        "        test data. The values should be expressed as float fractions and should\n",
        "        sum to 1.0.\n",
        "    random_state : int, None, or RandomStateInstance\n",
        "        Value to be passed to train_test_split().\n",
        "\n",
        "    Returns\n",
        "    -------\n",
        "    df_train, df_val, df_test :\n",
        "        Dataframes containing the three splits.\n",
        "    '''\n",
        "\n",
        "    if frac_train + frac_val + frac_test != 1.0:\n",
        "        raise ValueError('fractions %f, %f, %f do not add up to 1.0' % \\\n",
        "                         (frac_train, frac_val, frac_test))\n",
        "\n",
        "    if stratify_colname not in df_input.columns:\n",
        "        raise ValueError('%s is not a column in the dataframe' % (stratify_colname))\n",
        "\n",
        "    X = df_input # Contains all columns.\n",
        "    y = df_input[[stratify_colname]] # Dataframe of just the column on which to stratify.\n",
        "\n",
        "    # Split original dataframe into train and temp dataframes.\n",
        "    df_train, df_temp, y_train, y_temp = train_test_split(X,\n",
        "                                                          y,\n",
        "                                                          stratify=y,\n",
        "                                                          test_size=(1.0 - frac_train),\n",
        "                                                          random_state=random_state)\n",
        "\n",
        "    # Split the temp dataframe into val and test dataframes.\n",
        "    relative_frac_test = frac_test / (frac_val + frac_test)\n",
        "    df_val, df_test, y_val, y_test = train_test_split(df_temp,\n",
        "                                                      y_temp,\n",
        "                                                      stratify=y_temp,\n",
        "                                                      test_size=relative_frac_test,\n",
        "                                                      random_state=random_state)\n",
        "\n",
        "    assert len(df_input) == len(df_train) + len(df_val) + len(df_test)\n",
        "\n",
        "    return df_train, df_val, df_test"
      ],
      "metadata": {
        "id": "b_Zu3IvhbSC8"
      },
      "execution_count": 7,
      "outputs": []
    },
    {
      "cell_type": "code",
      "source": [
        "df_train, df_val, df_test = split_stratified_into_train_val_test(data_label)"
      ],
      "metadata": {
        "id": "ylhVux9Jdh18"
      },
      "execution_count": 8,
      "outputs": []
    },
    {
      "cell_type": "markdown",
      "source": [
        "Now my Data is devided in to 3 parts. train, test, and validation"
      ],
      "metadata": {
        "id": "9lXQFFAGJd1B"
      }
    },
    {
      "cell_type": "code",
      "source": [
        "#seeing how my train is\n",
        "df_train.head()"
      ],
      "metadata": {
        "colab": {
          "base_uri": "https://localhost:8080/",
          "height": 206
        },
        "id": "gpMJPeHqe_bp",
        "outputId": "fb14e029-f3f5-4bb7-c7cc-36958f10ee10"
      },
      "execution_count": 55,
      "outputs": [
        {
          "output_type": "execute_result",
          "data": {
            "text/plain": [
              "           file_name Intersection\n",
              "788    Image_789.jpg           no\n",
              "1255  Image_1256.jpg          yes\n",
              "697    Image_698.jpg          yes\n",
              "685    Image_686.jpg           no\n",
              "1065  Image_1066.jpg          yes"
            ],
            "text/html": [
              "\n",
              "  <div id=\"df-ce454405-307b-40a1-a573-e61122823391\">\n",
              "    <div class=\"colab-df-container\">\n",
              "      <div>\n",
              "<style scoped>\n",
              "    .dataframe tbody tr th:only-of-type {\n",
              "        vertical-align: middle;\n",
              "    }\n",
              "\n",
              "    .dataframe tbody tr th {\n",
              "        vertical-align: top;\n",
              "    }\n",
              "\n",
              "    .dataframe thead th {\n",
              "        text-align: right;\n",
              "    }\n",
              "</style>\n",
              "<table border=\"1\" class=\"dataframe\">\n",
              "  <thead>\n",
              "    <tr style=\"text-align: right;\">\n",
              "      <th></th>\n",
              "      <th>file_name</th>\n",
              "      <th>Intersection</th>\n",
              "    </tr>\n",
              "  </thead>\n",
              "  <tbody>\n",
              "    <tr>\n",
              "      <th>788</th>\n",
              "      <td>Image_789.jpg</td>\n",
              "      <td>no</td>\n",
              "    </tr>\n",
              "    <tr>\n",
              "      <th>1255</th>\n",
              "      <td>Image_1256.jpg</td>\n",
              "      <td>yes</td>\n",
              "    </tr>\n",
              "    <tr>\n",
              "      <th>697</th>\n",
              "      <td>Image_698.jpg</td>\n",
              "      <td>yes</td>\n",
              "    </tr>\n",
              "    <tr>\n",
              "      <th>685</th>\n",
              "      <td>Image_686.jpg</td>\n",
              "      <td>no</td>\n",
              "    </tr>\n",
              "    <tr>\n",
              "      <th>1065</th>\n",
              "      <td>Image_1066.jpg</td>\n",
              "      <td>yes</td>\n",
              "    </tr>\n",
              "  </tbody>\n",
              "</table>\n",
              "</div>\n",
              "      <button class=\"colab-df-convert\" onclick=\"convertToInteractive('df-ce454405-307b-40a1-a573-e61122823391')\"\n",
              "              title=\"Convert this dataframe to an interactive table.\"\n",
              "              style=\"display:none;\">\n",
              "        \n",
              "  <svg xmlns=\"http://www.w3.org/2000/svg\" height=\"24px\"viewBox=\"0 0 24 24\"\n",
              "       width=\"24px\">\n",
              "    <path d=\"M0 0h24v24H0V0z\" fill=\"none\"/>\n",
              "    <path d=\"M18.56 5.44l.94 2.06.94-2.06 2.06-.94-2.06-.94-.94-2.06-.94 2.06-2.06.94zm-11 1L8.5 8.5l.94-2.06 2.06-.94-2.06-.94L8.5 2.5l-.94 2.06-2.06.94zm10 10l.94 2.06.94-2.06 2.06-.94-2.06-.94-.94-2.06-.94 2.06-2.06.94z\"/><path d=\"M17.41 7.96l-1.37-1.37c-.4-.4-.92-.59-1.43-.59-.52 0-1.04.2-1.43.59L10.3 9.45l-7.72 7.72c-.78.78-.78 2.05 0 2.83L4 21.41c.39.39.9.59 1.41.59.51 0 1.02-.2 1.41-.59l7.78-7.78 2.81-2.81c.8-.78.8-2.07 0-2.86zM5.41 20L4 18.59l7.72-7.72 1.47 1.35L5.41 20z\"/>\n",
              "  </svg>\n",
              "      </button>\n",
              "      \n",
              "  <style>\n",
              "    .colab-df-container {\n",
              "      display:flex;\n",
              "      flex-wrap:wrap;\n",
              "      gap: 12px;\n",
              "    }\n",
              "\n",
              "    .colab-df-convert {\n",
              "      background-color: #E8F0FE;\n",
              "      border: none;\n",
              "      border-radius: 50%;\n",
              "      cursor: pointer;\n",
              "      display: none;\n",
              "      fill: #1967D2;\n",
              "      height: 32px;\n",
              "      padding: 0 0 0 0;\n",
              "      width: 32px;\n",
              "    }\n",
              "\n",
              "    .colab-df-convert:hover {\n",
              "      background-color: #E2EBFA;\n",
              "      box-shadow: 0px 1px 2px rgba(60, 64, 67, 0.3), 0px 1px 3px 1px rgba(60, 64, 67, 0.15);\n",
              "      fill: #174EA6;\n",
              "    }\n",
              "\n",
              "    [theme=dark] .colab-df-convert {\n",
              "      background-color: #3B4455;\n",
              "      fill: #D2E3FC;\n",
              "    }\n",
              "\n",
              "    [theme=dark] .colab-df-convert:hover {\n",
              "      background-color: #434B5C;\n",
              "      box-shadow: 0px 1px 3px 1px rgba(0, 0, 0, 0.15);\n",
              "      filter: drop-shadow(0px 1px 2px rgba(0, 0, 0, 0.3));\n",
              "      fill: #FFFFFF;\n",
              "    }\n",
              "  </style>\n",
              "\n",
              "      <script>\n",
              "        const buttonEl =\n",
              "          document.querySelector('#df-ce454405-307b-40a1-a573-e61122823391 button.colab-df-convert');\n",
              "        buttonEl.style.display =\n",
              "          google.colab.kernel.accessAllowed ? 'block' : 'none';\n",
              "\n",
              "        async function convertToInteractive(key) {\n",
              "          const element = document.querySelector('#df-ce454405-307b-40a1-a573-e61122823391');\n",
              "          const dataTable =\n",
              "            await google.colab.kernel.invokeFunction('convertToInteractive',\n",
              "                                                     [key], {});\n",
              "          if (!dataTable) return;\n",
              "\n",
              "          const docLinkHtml = 'Like what you see? Visit the ' +\n",
              "            '<a target=\"_blank\" href=https://colab.research.google.com/notebooks/data_table.ipynb>data table notebook</a>'\n",
              "            + ' to learn more about interactive tables.';\n",
              "          element.innerHTML = '';\n",
              "          dataTable['output_type'] = 'display_data';\n",
              "          await google.colab.output.renderOutput(dataTable, element);\n",
              "          const docLink = document.createElement('div');\n",
              "          docLink.innerHTML = docLinkHtml;\n",
              "          element.appendChild(docLink);\n",
              "        }\n",
              "      </script>\n",
              "    </div>\n",
              "  </div>\n",
              "  "
            ]
          },
          "metadata": {},
          "execution_count": 55
        }
      ]
    },
    {
      "cell_type": "code",
      "source": [
        "#Checking the value counts of the train images\n",
        "df_train['Intersection'].value_counts()"
      ],
      "metadata": {
        "colab": {
          "base_uri": "https://localhost:8080/"
        },
        "id": "yw29l0-IfSeC",
        "outputId": "bc7e711e-15ed-4d89-c885-a1f8302d9b63"
      },
      "execution_count": 10,
      "outputs": [
        {
          "output_type": "execute_result",
          "data": {
            "text/plain": [
              "yes    578\n",
              "no     431\n",
              "Name: Intersection, dtype: int64"
            ]
          },
          "metadata": {},
          "execution_count": 10
        }
      ]
    },
    {
      "cell_type": "markdown",
      "source": [
        "we have 578 images of the trees touching electrical lines and 431 images of the trees nlot touching lines. it is kind of balanced 🥦"
      ],
      "metadata": {
        "id": "y37c2iumJwxd"
      }
    },
    {
      "cell_type": "code",
      "source": [
        "df_val['Intersection'].value_counts()"
      ],
      "metadata": {
        "colab": {
          "base_uri": "https://localhost:8080/"
        },
        "id": "UyCqdRzIfcly",
        "outputId": "91aa2727-60ec-4d4f-d0be-49600df3131f"
      },
      "execution_count": 11,
      "outputs": [
        {
          "output_type": "execute_result",
          "data": {
            "text/plain": [
              "yes    124\n",
              "no      92\n",
              "Name: Intersection, dtype: int64"
            ]
          },
          "metadata": {},
          "execution_count": 11
        }
      ]
    },
    {
      "cell_type": "markdown",
      "source": [
        "the validation set has 124 and 92 images in the each class"
      ],
      "metadata": {
        "id": "XzkFc8UtKLGS"
      }
    },
    {
      "cell_type": "code",
      "source": [
        "df_test['Intersection'].value_counts()"
      ],
      "metadata": {
        "colab": {
          "base_uri": "https://localhost:8080/"
        },
        "id": "jLOuYSm9fjgC",
        "outputId": "62bf59fd-5b5c-48d8-a200-2810e36d0e43"
      },
      "execution_count": 12,
      "outputs": [
        {
          "output_type": "execute_result",
          "data": {
            "text/plain": [
              "yes    124\n",
              "no      93\n",
              "Name: Intersection, dtype: int64"
            ]
          },
          "metadata": {},
          "execution_count": 12
        }
      ]
    },
    {
      "cell_type": "markdown",
      "source": [
        "Test has around 124 and 93 in each class"
      ],
      "metadata": {
        "id": "Vk7mHmyUKSRC"
      }
    },
    {
      "cell_type": "code",
      "source": [
        "train_folder = '/content/drive/MyDrive/DataSets/DeepLearning/detect_trees_near_electric_wires/train'"
      ],
      "metadata": {
        "id": "B8T0NZfxfmXK"
      },
      "execution_count": 13,
      "outputs": []
    },
    {
      "cell_type": "markdown",
      "source": [
        "this is the folder where all my images are saved"
      ],
      "metadata": {
        "id": "g2XdCl5bKWbs"
      }
    },
    {
      "cell_type": "markdown",
      "source": [
        "***Data Augmentation***"
      ],
      "metadata": {
        "id": "UUgy6VfgK7Kt"
      }
    },
    {
      "cell_type": "markdown",
      "source": [
        "Data augmentation is a strategy that enables practitioners to significantly increase the diversity of data available for training models, without actually collecting new data. Data augmentation techniques such as cropping, padding, and horizontal flipping are commonly used to train large neural networks"
      ],
      "metadata": {
        "id": "sL81zjSNK5I8"
      }
    },
    {
      "cell_type": "code",
      "source": [
        "import tensorflow as tf\n",
        "import tensorflow.keras as keras\n",
        "from tensorflow.keras.preprocessing.image import ImageDataGenerator\n",
        "\n",
        "# Define your data generator\n",
        "train_gen = ImageDataGenerator(\n",
        "rotation_range=45,\n",
        "rescale=1./255,\n",
        "horizontal_flip=True\n",
        ")\n",
        "val_gen = ImageDataGenerator(\n",
        "rotation_range=45,\n",
        "rescale=1./255,\n",
        "horizontal_flip=True\n",
        ")\n",
        "test_gen = ImageDataGenerator(rescale = 1./255)"
      ],
      "metadata": {
        "id": "FIoWcaIFf4IT"
      },
      "execution_count": 14,
      "outputs": []
    },
    {
      "cell_type": "markdown",
      "source": [
        "Creating my Train, Test and Vaidation Data"
      ],
      "metadata": {
        "id": "33384EHVLHIL"
      }
    },
    {
      "cell_type": "code",
      "source": [
        "train_data = train_gen.flow_from_dataframe(dataframe = df_train, x_col='file_name',\n",
        "                                          directory = train_folder,y_col = 'Intersection',class_mode=\"binary\",\n",
        "                                          batch_size = 32, shuffle = True, \n",
        "                                          target_size = (299, 299)) #here iam going to use the Xception Architecture and its input size is (299, 299)\n",
        "\n",
        "val_data = train_gen.flow_from_dataframe(dataframe = df_val, \n",
        "                                          directory = train_folder, x_col = 'file_name', \n",
        "                                          y_col = 'Intersection',\n",
        "                                          batch_size = 32, shuffle = True, \n",
        "                                          class_mode=\"binary\",target_size = (299, 299))\n",
        "\n",
        "\n",
        "test_data = test_gen.flow_from_dataframe(dataframe = df_test, \n",
        "                                        directory = train_folder, x_col = 'file_name', \n",
        "                                        y_col = 'Intersection',\n",
        "                                        batch_size = 32, shuffle = False, \n",
        "                                        target_size = (299, 299))"
      ],
      "metadata": {
        "colab": {
          "base_uri": "https://localhost:8080/"
        },
        "id": "cQui7-F7f_1x",
        "outputId": "6a9355d0-685d-40cf-deaa-bb8d6bfc822d"
      },
      "execution_count": 15,
      "outputs": [
        {
          "output_type": "stream",
          "name": "stdout",
          "text": [
            "Found 1009 validated image filenames belonging to 2 classes.\n",
            "Found 216 validated image filenames belonging to 2 classes.\n",
            "Found 217 validated image filenames belonging to 2 classes.\n"
          ]
        }
      ]
    },
    {
      "cell_type": "code",
      "source": [
        "#Creating an instance of the Xception Architecture\n",
        "Xception = tf.keras.applications.Xception(\n",
        "    include_top=False,\n",
        "    weights=\"imagenet\",\n",
        "    input_tensor=None,\n",
        "    input_shape=None,\n",
        "    pooling=None,\n",
        "    classes=2,\n",
        "    classifier_activation=\"binary\",\n",
        ")"
      ],
      "metadata": {
        "id": "5ocQnx1gksL4",
        "colab": {
          "base_uri": "https://localhost:8080/"
        },
        "outputId": "4988f3f4-aa69-4661-ffdb-d42f48dfb69e"
      },
      "execution_count": 16,
      "outputs": [
        {
          "output_type": "stream",
          "name": "stdout",
          "text": [
            "Downloading data from https://storage.googleapis.com/tensorflow/keras-applications/xception/xception_weights_tf_dim_ordering_tf_kernels_notop.h5\n",
            "83689472/83683744 [==============================] - 2s 0us/step\n",
            "83697664/83683744 [==============================] - 2s 0us/step\n"
          ]
        }
      ]
    },
    {
      "cell_type": "code",
      "source": [
        "# create the base pre-trained model\n",
        "base_model = Xception(weights='imagenet', include_top=False)\n",
        "\n",
        "x = base_model.output\n",
        "\n",
        "# add a global spatial average pooling layer\n",
        "x = GlobalAveragePooling2D()(x)\n",
        "\n",
        "#Dropout Layer\n",
        "x = Dropout(0.2)(x) # Regularize with dropout\n",
        "\n",
        "# and a logistic layer\n",
        "predictions = Dense(1, activation=\"sigmoid\")(x)\n",
        "\n",
        "model = Model(inputs=base_model.input, outputs=predictions)"
      ],
      "metadata": {
        "id": "1gwVTVPzl8VH"
      },
      "execution_count": null,
      "outputs": []
    },
    {
      "cell_type": "markdown",
      "source": [
        "As we are using the Transfer Learning Technique, we will not train the base model. we will make those layers Freze and train the top Dense layers"
      ],
      "metadata": {
        "id": "P_SmF0VVLqmT"
      }
    },
    {
      "cell_type": "code",
      "source": [
        "# don't train existing weights\n",
        "for layer in base_model.layers:\n",
        "  layer.trainable = False"
      ],
      "metadata": {
        "id": "fac2rmIqmCdF"
      },
      "execution_count": null,
      "outputs": []
    },
    {
      "cell_type": "code",
      "source": [
        "#Check the model summary and trainable parameters\n",
        "model.summary()"
      ],
      "metadata": {
        "colab": {
          "base_uri": "https://localhost:8080/"
        },
        "id": "j-zQznaonShR",
        "outputId": "4f5f2363-b514-4556-ce3a-fd9b38a2ce05"
      },
      "execution_count": null,
      "outputs": [
        {
          "output_type": "stream",
          "name": "stdout",
          "text": [
            "Model: \"model\"\n",
            "__________________________________________________________________________________________________\n",
            " Layer (type)                   Output Shape         Param #     Connected to                     \n",
            "==================================================================================================\n",
            " input_3 (InputLayer)           [(None, None, None,  0           []                               \n",
            "                                 3)]                                                              \n",
            "                                                                                                  \n",
            " block1_conv1 (Conv2D)          (None, None, None,   864         ['input_3[0][0]']                \n",
            "                                32)                                                               \n",
            "                                                                                                  \n",
            " block1_conv1_bn (BatchNormaliz  (None, None, None,   128        ['block1_conv1[0][0]']           \n",
            " ation)                         32)                                                               \n",
            "                                                                                                  \n",
            " block1_conv1_act (Activation)  (None, None, None,   0           ['block1_conv1_bn[0][0]']        \n",
            "                                32)                                                               \n",
            "                                                                                                  \n",
            " block1_conv2 (Conv2D)          (None, None, None,   18432       ['block1_conv1_act[0][0]']       \n",
            "                                64)                                                               \n",
            "                                                                                                  \n",
            " block1_conv2_bn (BatchNormaliz  (None, None, None,   256        ['block1_conv2[0][0]']           \n",
            " ation)                         64)                                                               \n",
            "                                                                                                  \n",
            " block1_conv2_act (Activation)  (None, None, None,   0           ['block1_conv2_bn[0][0]']        \n",
            "                                64)                                                               \n",
            "                                                                                                  \n",
            " block2_sepconv1 (SeparableConv  (None, None, None,   8768       ['block1_conv2_act[0][0]']       \n",
            " 2D)                            128)                                                              \n",
            "                                                                                                  \n",
            " block2_sepconv1_bn (BatchNorma  (None, None, None,   512        ['block2_sepconv1[0][0]']        \n",
            " lization)                      128)                                                              \n",
            "                                                                                                  \n",
            " block2_sepconv2_act (Activatio  (None, None, None,   0          ['block2_sepconv1_bn[0][0]']     \n",
            " n)                             128)                                                              \n",
            "                                                                                                  \n",
            " block2_sepconv2 (SeparableConv  (None, None, None,   17536      ['block2_sepconv2_act[0][0]']    \n",
            " 2D)                            128)                                                              \n",
            "                                                                                                  \n",
            " block2_sepconv2_bn (BatchNorma  (None, None, None,   512        ['block2_sepconv2[0][0]']        \n",
            " lization)                      128)                                                              \n",
            "                                                                                                  \n",
            " conv2d_8 (Conv2D)              (None, None, None,   8192        ['block1_conv2_act[0][0]']       \n",
            "                                128)                                                              \n",
            "                                                                                                  \n",
            " block2_pool (MaxPooling2D)     (None, None, None,   0           ['block2_sepconv2_bn[0][0]']     \n",
            "                                128)                                                              \n",
            "                                                                                                  \n",
            " batch_normalization_8 (BatchNo  (None, None, None,   512        ['conv2d_8[0][0]']               \n",
            " rmalization)                   128)                                                              \n",
            "                                                                                                  \n",
            " add_24 (Add)                   (None, None, None,   0           ['block2_pool[0][0]',            \n",
            "                                128)                              'batch_normalization_8[0][0]']  \n",
            "                                                                                                  \n",
            " block3_sepconv1_act (Activatio  (None, None, None,   0          ['add_24[0][0]']                 \n",
            " n)                             128)                                                              \n",
            "                                                                                                  \n",
            " block3_sepconv1 (SeparableConv  (None, None, None,   33920      ['block3_sepconv1_act[0][0]']    \n",
            " 2D)                            256)                                                              \n",
            "                                                                                                  \n",
            " block3_sepconv1_bn (BatchNorma  (None, None, None,   1024       ['block3_sepconv1[0][0]']        \n",
            " lization)                      256)                                                              \n",
            "                                                                                                  \n",
            " block3_sepconv2_act (Activatio  (None, None, None,   0          ['block3_sepconv1_bn[0][0]']     \n",
            " n)                             256)                                                              \n",
            "                                                                                                  \n",
            " block3_sepconv2 (SeparableConv  (None, None, None,   67840      ['block3_sepconv2_act[0][0]']    \n",
            " 2D)                            256)                                                              \n",
            "                                                                                                  \n",
            " block3_sepconv2_bn (BatchNorma  (None, None, None,   1024       ['block3_sepconv2[0][0]']        \n",
            " lization)                      256)                                                              \n",
            "                                                                                                  \n",
            " conv2d_9 (Conv2D)              (None, None, None,   32768       ['add_24[0][0]']                 \n",
            "                                256)                                                              \n",
            "                                                                                                  \n",
            " block3_pool (MaxPooling2D)     (None, None, None,   0           ['block3_sepconv2_bn[0][0]']     \n",
            "                                256)                                                              \n",
            "                                                                                                  \n",
            " batch_normalization_9 (BatchNo  (None, None, None,   1024       ['conv2d_9[0][0]']               \n",
            " rmalization)                   256)                                                              \n",
            "                                                                                                  \n",
            " add_25 (Add)                   (None, None, None,   0           ['block3_pool[0][0]',            \n",
            "                                256)                              'batch_normalization_9[0][0]']  \n",
            "                                                                                                  \n",
            " block4_sepconv1_act (Activatio  (None, None, None,   0          ['add_25[0][0]']                 \n",
            " n)                             256)                                                              \n",
            "                                                                                                  \n",
            " block4_sepconv1 (SeparableConv  (None, None, None,   188672     ['block4_sepconv1_act[0][0]']    \n",
            " 2D)                            728)                                                              \n",
            "                                                                                                  \n",
            " block4_sepconv1_bn (BatchNorma  (None, None, None,   2912       ['block4_sepconv1[0][0]']        \n",
            " lization)                      728)                                                              \n",
            "                                                                                                  \n",
            " block4_sepconv2_act (Activatio  (None, None, None,   0          ['block4_sepconv1_bn[0][0]']     \n",
            " n)                             728)                                                              \n",
            "                                                                                                  \n",
            " block4_sepconv2 (SeparableConv  (None, None, None,   536536     ['block4_sepconv2_act[0][0]']    \n",
            " 2D)                            728)                                                              \n",
            "                                                                                                  \n",
            " block4_sepconv2_bn (BatchNorma  (None, None, None,   2912       ['block4_sepconv2[0][0]']        \n",
            " lization)                      728)                                                              \n",
            "                                                                                                  \n",
            " conv2d_10 (Conv2D)             (None, None, None,   186368      ['add_25[0][0]']                 \n",
            "                                728)                                                              \n",
            "                                                                                                  \n",
            " block4_pool (MaxPooling2D)     (None, None, None,   0           ['block4_sepconv2_bn[0][0]']     \n",
            "                                728)                                                              \n",
            "                                                                                                  \n",
            " batch_normalization_10 (BatchN  (None, None, None,   2912       ['conv2d_10[0][0]']              \n",
            " ormalization)                  728)                                                              \n",
            "                                                                                                  \n",
            " add_26 (Add)                   (None, None, None,   0           ['block4_pool[0][0]',            \n",
            "                                728)                              'batch_normalization_10[0][0]'] \n",
            "                                                                                                  \n",
            " block5_sepconv1_act (Activatio  (None, None, None,   0          ['add_26[0][0]']                 \n",
            " n)                             728)                                                              \n",
            "                                                                                                  \n",
            " block5_sepconv1 (SeparableConv  (None, None, None,   536536     ['block5_sepconv1_act[0][0]']    \n",
            " 2D)                            728)                                                              \n",
            "                                                                                                  \n",
            " block5_sepconv1_bn (BatchNorma  (None, None, None,   2912       ['block5_sepconv1[0][0]']        \n",
            " lization)                      728)                                                              \n",
            "                                                                                                  \n",
            " block5_sepconv2_act (Activatio  (None, None, None,   0          ['block5_sepconv1_bn[0][0]']     \n",
            " n)                             728)                                                              \n",
            "                                                                                                  \n",
            " block5_sepconv2 (SeparableConv  (None, None, None,   536536     ['block5_sepconv2_act[0][0]']    \n",
            " 2D)                            728)                                                              \n",
            "                                                                                                  \n",
            " block5_sepconv2_bn (BatchNorma  (None, None, None,   2912       ['block5_sepconv2[0][0]']        \n",
            " lization)                      728)                                                              \n",
            "                                                                                                  \n",
            " block5_sepconv3_act (Activatio  (None, None, None,   0          ['block5_sepconv2_bn[0][0]']     \n",
            " n)                             728)                                                              \n",
            "                                                                                                  \n",
            " block5_sepconv3 (SeparableConv  (None, None, None,   536536     ['block5_sepconv3_act[0][0]']    \n",
            " 2D)                            728)                                                              \n",
            "                                                                                                  \n",
            " block5_sepconv3_bn (BatchNorma  (None, None, None,   2912       ['block5_sepconv3[0][0]']        \n",
            " lization)                      728)                                                              \n",
            "                                                                                                  \n",
            " add_27 (Add)                   (None, None, None,   0           ['block5_sepconv3_bn[0][0]',     \n",
            "                                728)                              'add_26[0][0]']                 \n",
            "                                                                                                  \n",
            " block6_sepconv1_act (Activatio  (None, None, None,   0          ['add_27[0][0]']                 \n",
            " n)                             728)                                                              \n",
            "                                                                                                  \n",
            " block6_sepconv1 (SeparableConv  (None, None, None,   536536     ['block6_sepconv1_act[0][0]']    \n",
            " 2D)                            728)                                                              \n",
            "                                                                                                  \n",
            " block6_sepconv1_bn (BatchNorma  (None, None, None,   2912       ['block6_sepconv1[0][0]']        \n",
            " lization)                      728)                                                              \n",
            "                                                                                                  \n",
            " block6_sepconv2_act (Activatio  (None, None, None,   0          ['block6_sepconv1_bn[0][0]']     \n",
            " n)                             728)                                                              \n",
            "                                                                                                  \n",
            " block6_sepconv2 (SeparableConv  (None, None, None,   536536     ['block6_sepconv2_act[0][0]']    \n",
            " 2D)                            728)                                                              \n",
            "                                                                                                  \n",
            " block6_sepconv2_bn (BatchNorma  (None, None, None,   2912       ['block6_sepconv2[0][0]']        \n",
            " lization)                      728)                                                              \n",
            "                                                                                                  \n",
            " block6_sepconv3_act (Activatio  (None, None, None,   0          ['block6_sepconv2_bn[0][0]']     \n",
            " n)                             728)                                                              \n",
            "                                                                                                  \n",
            " block6_sepconv3 (SeparableConv  (None, None, None,   536536     ['block6_sepconv3_act[0][0]']    \n",
            " 2D)                            728)                                                              \n",
            "                                                                                                  \n",
            " block6_sepconv3_bn (BatchNorma  (None, None, None,   2912       ['block6_sepconv3[0][0]']        \n",
            " lization)                      728)                                                              \n",
            "                                                                                                  \n",
            " add_28 (Add)                   (None, None, None,   0           ['block6_sepconv3_bn[0][0]',     \n",
            "                                728)                              'add_27[0][0]']                 \n",
            "                                                                                                  \n",
            " block7_sepconv1_act (Activatio  (None, None, None,   0          ['add_28[0][0]']                 \n",
            " n)                             728)                                                              \n",
            "                                                                                                  \n",
            " block7_sepconv1 (SeparableConv  (None, None, None,   536536     ['block7_sepconv1_act[0][0]']    \n",
            " 2D)                            728)                                                              \n",
            "                                                                                                  \n",
            " block7_sepconv1_bn (BatchNorma  (None, None, None,   2912       ['block7_sepconv1[0][0]']        \n",
            " lization)                      728)                                                              \n",
            "                                                                                                  \n",
            " block7_sepconv2_act (Activatio  (None, None, None,   0          ['block7_sepconv1_bn[0][0]']     \n",
            " n)                             728)                                                              \n",
            "                                                                                                  \n",
            " block7_sepconv2 (SeparableConv  (None, None, None,   536536     ['block7_sepconv2_act[0][0]']    \n",
            " 2D)                            728)                                                              \n",
            "                                                                                                  \n",
            " block7_sepconv2_bn (BatchNorma  (None, None, None,   2912       ['block7_sepconv2[0][0]']        \n",
            " lization)                      728)                                                              \n",
            "                                                                                                  \n",
            " block7_sepconv3_act (Activatio  (None, None, None,   0          ['block7_sepconv2_bn[0][0]']     \n",
            " n)                             728)                                                              \n",
            "                                                                                                  \n",
            " block7_sepconv3 (SeparableConv  (None, None, None,   536536     ['block7_sepconv3_act[0][0]']    \n",
            " 2D)                            728)                                                              \n",
            "                                                                                                  \n",
            " block7_sepconv3_bn (BatchNorma  (None, None, None,   2912       ['block7_sepconv3[0][0]']        \n",
            " lization)                      728)                                                              \n",
            "                                                                                                  \n",
            " add_29 (Add)                   (None, None, None,   0           ['block7_sepconv3_bn[0][0]',     \n",
            "                                728)                              'add_28[0][0]']                 \n",
            "                                                                                                  \n",
            " block8_sepconv1_act (Activatio  (None, None, None,   0          ['add_29[0][0]']                 \n",
            " n)                             728)                                                              \n",
            "                                                                                                  \n",
            " block8_sepconv1 (SeparableConv  (None, None, None,   536536     ['block8_sepconv1_act[0][0]']    \n",
            " 2D)                            728)                                                              \n",
            "                                                                                                  \n",
            " block8_sepconv1_bn (BatchNorma  (None, None, None,   2912       ['block8_sepconv1[0][0]']        \n",
            " lization)                      728)                                                              \n",
            "                                                                                                  \n",
            " block8_sepconv2_act (Activatio  (None, None, None,   0          ['block8_sepconv1_bn[0][0]']     \n",
            " n)                             728)                                                              \n",
            "                                                                                                  \n",
            " block8_sepconv2 (SeparableConv  (None, None, None,   536536     ['block8_sepconv2_act[0][0]']    \n",
            " 2D)                            728)                                                              \n",
            "                                                                                                  \n",
            " block8_sepconv2_bn (BatchNorma  (None, None, None,   2912       ['block8_sepconv2[0][0]']        \n",
            " lization)                      728)                                                              \n",
            "                                                                                                  \n",
            " block8_sepconv3_act (Activatio  (None, None, None,   0          ['block8_sepconv2_bn[0][0]']     \n",
            " n)                             728)                                                              \n",
            "                                                                                                  \n",
            " block8_sepconv3 (SeparableConv  (None, None, None,   536536     ['block8_sepconv3_act[0][0]']    \n",
            " 2D)                            728)                                                              \n",
            "                                                                                                  \n",
            " block8_sepconv3_bn (BatchNorma  (None, None, None,   2912       ['block8_sepconv3[0][0]']        \n",
            " lization)                      728)                                                              \n",
            "                                                                                                  \n",
            " add_30 (Add)                   (None, None, None,   0           ['block8_sepconv3_bn[0][0]',     \n",
            "                                728)                              'add_29[0][0]']                 \n",
            "                                                                                                  \n",
            " block9_sepconv1_act (Activatio  (None, None, None,   0          ['add_30[0][0]']                 \n",
            " n)                             728)                                                              \n",
            "                                                                                                  \n",
            " block9_sepconv1 (SeparableConv  (None, None, None,   536536     ['block9_sepconv1_act[0][0]']    \n",
            " 2D)                            728)                                                              \n",
            "                                                                                                  \n",
            " block9_sepconv1_bn (BatchNorma  (None, None, None,   2912       ['block9_sepconv1[0][0]']        \n",
            " lization)                      728)                                                              \n",
            "                                                                                                  \n",
            " block9_sepconv2_act (Activatio  (None, None, None,   0          ['block9_sepconv1_bn[0][0]']     \n",
            " n)                             728)                                                              \n",
            "                                                                                                  \n",
            " block9_sepconv2 (SeparableConv  (None, None, None,   536536     ['block9_sepconv2_act[0][0]']    \n",
            " 2D)                            728)                                                              \n",
            "                                                                                                  \n",
            " block9_sepconv2_bn (BatchNorma  (None, None, None,   2912       ['block9_sepconv2[0][0]']        \n",
            " lization)                      728)                                                              \n",
            "                                                                                                  \n",
            " block9_sepconv3_act (Activatio  (None, None, None,   0          ['block9_sepconv2_bn[0][0]']     \n",
            " n)                             728)                                                              \n",
            "                                                                                                  \n",
            " block9_sepconv3 (SeparableConv  (None, None, None,   536536     ['block9_sepconv3_act[0][0]']    \n",
            " 2D)                            728)                                                              \n",
            "                                                                                                  \n",
            " block9_sepconv3_bn (BatchNorma  (None, None, None,   2912       ['block9_sepconv3[0][0]']        \n",
            " lization)                      728)                                                              \n",
            "                                                                                                  \n",
            " add_31 (Add)                   (None, None, None,   0           ['block9_sepconv3_bn[0][0]',     \n",
            "                                728)                              'add_30[0][0]']                 \n",
            "                                                                                                  \n",
            " block10_sepconv1_act (Activati  (None, None, None,   0          ['add_31[0][0]']                 \n",
            " on)                            728)                                                              \n",
            "                                                                                                  \n",
            " block10_sepconv1 (SeparableCon  (None, None, None,   536536     ['block10_sepconv1_act[0][0]']   \n",
            " v2D)                           728)                                                              \n",
            "                                                                                                  \n",
            " block10_sepconv1_bn (BatchNorm  (None, None, None,   2912       ['block10_sepconv1[0][0]']       \n",
            " alization)                     728)                                                              \n",
            "                                                                                                  \n",
            " block10_sepconv2_act (Activati  (None, None, None,   0          ['block10_sepconv1_bn[0][0]']    \n",
            " on)                            728)                                                              \n",
            "                                                                                                  \n",
            " block10_sepconv2 (SeparableCon  (None, None, None,   536536     ['block10_sepconv2_act[0][0]']   \n",
            " v2D)                           728)                                                              \n",
            "                                                                                                  \n",
            " block10_sepconv2_bn (BatchNorm  (None, None, None,   2912       ['block10_sepconv2[0][0]']       \n",
            " alization)                     728)                                                              \n",
            "                                                                                                  \n",
            " block10_sepconv3_act (Activati  (None, None, None,   0          ['block10_sepconv2_bn[0][0]']    \n",
            " on)                            728)                                                              \n",
            "                                                                                                  \n",
            " block10_sepconv3 (SeparableCon  (None, None, None,   536536     ['block10_sepconv3_act[0][0]']   \n",
            " v2D)                           728)                                                              \n",
            "                                                                                                  \n",
            " block10_sepconv3_bn (BatchNorm  (None, None, None,   2912       ['block10_sepconv3[0][0]']       \n",
            " alization)                     728)                                                              \n",
            "                                                                                                  \n",
            " add_32 (Add)                   (None, None, None,   0           ['block10_sepconv3_bn[0][0]',    \n",
            "                                728)                              'add_31[0][0]']                 \n",
            "                                                                                                  \n",
            " block11_sepconv1_act (Activati  (None, None, None,   0          ['add_32[0][0]']                 \n",
            " on)                            728)                                                              \n",
            "                                                                                                  \n",
            " block11_sepconv1 (SeparableCon  (None, None, None,   536536     ['block11_sepconv1_act[0][0]']   \n",
            " v2D)                           728)                                                              \n",
            "                                                                                                  \n",
            " block11_sepconv1_bn (BatchNorm  (None, None, None,   2912       ['block11_sepconv1[0][0]']       \n",
            " alization)                     728)                                                              \n",
            "                                                                                                  \n",
            " block11_sepconv2_act (Activati  (None, None, None,   0          ['block11_sepconv1_bn[0][0]']    \n",
            " on)                            728)                                                              \n",
            "                                                                                                  \n",
            " block11_sepconv2 (SeparableCon  (None, None, None,   536536     ['block11_sepconv2_act[0][0]']   \n",
            " v2D)                           728)                                                              \n",
            "                                                                                                  \n",
            " block11_sepconv2_bn (BatchNorm  (None, None, None,   2912       ['block11_sepconv2[0][0]']       \n",
            " alization)                     728)                                                              \n",
            "                                                                                                  \n",
            " block11_sepconv3_act (Activati  (None, None, None,   0          ['block11_sepconv2_bn[0][0]']    \n",
            " on)                            728)                                                              \n",
            "                                                                                                  \n",
            " block11_sepconv3 (SeparableCon  (None, None, None,   536536     ['block11_sepconv3_act[0][0]']   \n",
            " v2D)                           728)                                                              \n",
            "                                                                                                  \n",
            " block11_sepconv3_bn (BatchNorm  (None, None, None,   2912       ['block11_sepconv3[0][0]']       \n",
            " alization)                     728)                                                              \n",
            "                                                                                                  \n",
            " add_33 (Add)                   (None, None, None,   0           ['block11_sepconv3_bn[0][0]',    \n",
            "                                728)                              'add_32[0][0]']                 \n",
            "                                                                                                  \n",
            " block12_sepconv1_act (Activati  (None, None, None,   0          ['add_33[0][0]']                 \n",
            " on)                            728)                                                              \n",
            "                                                                                                  \n",
            " block12_sepconv1 (SeparableCon  (None, None, None,   536536     ['block12_sepconv1_act[0][0]']   \n",
            " v2D)                           728)                                                              \n",
            "                                                                                                  \n",
            " block12_sepconv1_bn (BatchNorm  (None, None, None,   2912       ['block12_sepconv1[0][0]']       \n",
            " alization)                     728)                                                              \n",
            "                                                                                                  \n",
            " block12_sepconv2_act (Activati  (None, None, None,   0          ['block12_sepconv1_bn[0][0]']    \n",
            " on)                            728)                                                              \n",
            "                                                                                                  \n",
            " block12_sepconv2 (SeparableCon  (None, None, None,   536536     ['block12_sepconv2_act[0][0]']   \n",
            " v2D)                           728)                                                              \n",
            "                                                                                                  \n",
            " block12_sepconv2_bn (BatchNorm  (None, None, None,   2912       ['block12_sepconv2[0][0]']       \n",
            " alization)                     728)                                                              \n",
            "                                                                                                  \n",
            " block12_sepconv3_act (Activati  (None, None, None,   0          ['block12_sepconv2_bn[0][0]']    \n",
            " on)                            728)                                                              \n",
            "                                                                                                  \n",
            " block12_sepconv3 (SeparableCon  (None, None, None,   536536     ['block12_sepconv3_act[0][0]']   \n",
            " v2D)                           728)                                                              \n",
            "                                                                                                  \n",
            " block12_sepconv3_bn (BatchNorm  (None, None, None,   2912       ['block12_sepconv3[0][0]']       \n",
            " alization)                     728)                                                              \n",
            "                                                                                                  \n",
            " add_34 (Add)                   (None, None, None,   0           ['block12_sepconv3_bn[0][0]',    \n",
            "                                728)                              'add_33[0][0]']                 \n",
            "                                                                                                  \n",
            " block13_sepconv1_act (Activati  (None, None, None,   0          ['add_34[0][0]']                 \n",
            " on)                            728)                                                              \n",
            "                                                                                                  \n",
            " block13_sepconv1 (SeparableCon  (None, None, None,   536536     ['block13_sepconv1_act[0][0]']   \n",
            " v2D)                           728)                                                              \n",
            "                                                                                                  \n",
            " block13_sepconv1_bn (BatchNorm  (None, None, None,   2912       ['block13_sepconv1[0][0]']       \n",
            " alization)                     728)                                                              \n",
            "                                                                                                  \n",
            " block13_sepconv2_act (Activati  (None, None, None,   0          ['block13_sepconv1_bn[0][0]']    \n",
            " on)                            728)                                                              \n",
            "                                                                                                  \n",
            " block13_sepconv2 (SeparableCon  (None, None, None,   752024     ['block13_sepconv2_act[0][0]']   \n",
            " v2D)                           1024)                                                             \n",
            "                                                                                                  \n",
            " block13_sepconv2_bn (BatchNorm  (None, None, None,   4096       ['block13_sepconv2[0][0]']       \n",
            " alization)                     1024)                                                             \n",
            "                                                                                                  \n",
            " conv2d_11 (Conv2D)             (None, None, None,   745472      ['add_34[0][0]']                 \n",
            "                                1024)                                                             \n",
            "                                                                                                  \n",
            " block13_pool (MaxPooling2D)    (None, None, None,   0           ['block13_sepconv2_bn[0][0]']    \n",
            "                                1024)                                                             \n",
            "                                                                                                  \n",
            " batch_normalization_11 (BatchN  (None, None, None,   4096       ['conv2d_11[0][0]']              \n",
            " ormalization)                  1024)                                                             \n",
            "                                                                                                  \n",
            " add_35 (Add)                   (None, None, None,   0           ['block13_pool[0][0]',           \n",
            "                                1024)                             'batch_normalization_11[0][0]'] \n",
            "                                                                                                  \n",
            " block14_sepconv1 (SeparableCon  (None, None, None,   1582080    ['add_35[0][0]']                 \n",
            " v2D)                           1536)                                                             \n",
            "                                                                                                  \n",
            " block14_sepconv1_bn (BatchNorm  (None, None, None,   6144       ['block14_sepconv1[0][0]']       \n",
            " alization)                     1536)                                                             \n",
            "                                                                                                  \n",
            " block14_sepconv1_act (Activati  (None, None, None,   0          ['block14_sepconv1_bn[0][0]']    \n",
            " on)                            1536)                                                             \n",
            "                                                                                                  \n",
            " block14_sepconv2 (SeparableCon  (None, None, None,   3159552    ['block14_sepconv1_act[0][0]']   \n",
            " v2D)                           2048)                                                             \n",
            "                                                                                                  \n",
            " block14_sepconv2_bn (BatchNorm  (None, None, None,   8192       ['block14_sepconv2[0][0]']       \n",
            " alization)                     2048)                                                             \n",
            "                                                                                                  \n",
            " block14_sepconv2_act (Activati  (None, None, None,   0          ['block14_sepconv2_bn[0][0]']    \n",
            " on)                            2048)                                                             \n",
            "                                                                                                  \n",
            " global_average_pooling2d_2 (Gl  (None, 2048)        0           ['block14_sepconv2_act[0][0]']   \n",
            " obalAveragePooling2D)                                                                            \n",
            "                                                                                                  \n",
            " dropout_3 (Dropout)            (None, 2048)         0           ['global_average_pooling2d_2[0][0\n",
            "                                                                 ]']                              \n",
            "                                                                                                  \n",
            " dense_3 (Dense)                (None, 1)            2049        ['dropout_3[0][0]']              \n",
            "                                                                                                  \n",
            "==================================================================================================\n",
            "Total params: 20,863,529\n",
            "Trainable params: 2,049\n",
            "Non-trainable params: 20,861,480\n",
            "__________________________________________________________________________________________________\n"
          ]
        }
      ]
    },
    {
      "cell_type": "markdown",
      "source": [
        "We can see that only 2049 are trainable which are of dense layers"
      ],
      "metadata": {
        "id": "K4cln6RlL8GH"
      }
    },
    {
      "cell_type": "code",
      "source": [
        "base_learning_rate = 0.0001\n",
        "\n",
        "#Compile model\n",
        "model.compile(optimizer=Adam(lr= base_learning_rate), loss= \"binary_crossentropy\", metrics = ['accuracy'])"
      ],
      "metadata": {
        "colab": {
          "base_uri": "https://localhost:8080/"
        },
        "id": "iJenSPa7nU4p",
        "outputId": "89fed1d3-725a-4007-802c-7988b21cb9e5"
      },
      "execution_count": null,
      "outputs": [
        {
          "output_type": "stream",
          "name": "stderr",
          "text": [
            "/usr/local/lib/python3.7/dist-packages/keras/optimizer_v2/adam.py:105: UserWarning: The `lr` argument is deprecated, use `learning_rate` instead.\n",
            "  super(Adam, self).__init__(name, **kwargs)\n"
          ]
        }
      ]
    },
    {
      "cell_type": "code",
      "source": [
        "#epochs\n",
        "initial_epochs = 20\n",
        "\n",
        "# Callbacks\n",
        "#Save best model\n",
        "ckpt_filename= \"/content/drive/MyDrive/DataSets/DeepLearning/detect_trees_near_electric_wires/base_model_weights1.hdf5\"\n",
        "checkpoint = ModelCheckpoint(filepath=ckpt_filename, save_best_only=True, save_weights_only=True, verbose = 1)\n",
        "lr_reduce = ReduceLROnPlateau(monitor='val_loss', factor=0.1, patience=2, verbose=1)\n",
        "early_stop = EarlyStopping(monitor='val_loss', min_delta=0.0001, patience=3, mode='min', verbose = 1)"
      ],
      "metadata": {
        "id": "PsyFKhRKnbJ_"
      },
      "execution_count": null,
      "outputs": []
    },
    {
      "cell_type": "code",
      "source": [
        "# Fitting the model\n",
        "history = model.fit(train_data,\n",
        "                    epochs=initial_epochs,\n",
        "                    validation_data=val_data,\n",
        "                    callbacks=[checkpoint, early_stop, lr_reduce]\n",
        "                    )"
      ],
      "metadata": {
        "colab": {
          "base_uri": "https://localhost:8080/"
        },
        "id": "Iktp8oAsoOqp",
        "outputId": "c9489d8e-039d-461d-ba6e-c8cc54dd5808"
      },
      "execution_count": null,
      "outputs": [
        {
          "output_type": "stream",
          "name": "stdout",
          "text": [
            "Epoch 1/20\n",
            "32/32 [==============================] - ETA: 0s - loss: 0.6845 - accuracy: 0.5610\n",
            "Epoch 1: val_loss improved from inf to 0.68604, saving model to /content/drive/MyDrive/DataSets/DeepLearning/detect_trees_near_electric_wires/base_model_weights1.hdf5\n",
            "32/32 [==============================] - 36s 1s/step - loss: 0.6845 - accuracy: 0.5610 - val_loss: 0.6860 - val_accuracy: 0.5694 - lr: 1.0000e-04\n",
            "Epoch 2/20\n",
            "32/32 [==============================] - ETA: 0s - loss: 0.6821 - accuracy: 0.5669\n",
            "Epoch 2: val_loss improved from 0.68604 to 0.67146, saving model to /content/drive/MyDrive/DataSets/DeepLearning/detect_trees_near_electric_wires/base_model_weights1.hdf5\n",
            "32/32 [==============================] - 36s 1s/step - loss: 0.6821 - accuracy: 0.5669 - val_loss: 0.6715 - val_accuracy: 0.6157 - lr: 1.0000e-04\n",
            "Epoch 3/20\n",
            "32/32 [==============================] - ETA: 0s - loss: 0.6731 - accuracy: 0.5808\n",
            "Epoch 3: val_loss did not improve from 0.67146\n",
            "32/32 [==============================] - 36s 1s/step - loss: 0.6731 - accuracy: 0.5808 - val_loss: 0.6774 - val_accuracy: 0.5694 - lr: 1.0000e-04\n",
            "Epoch 4/20\n",
            "32/32 [==============================] - ETA: 0s - loss: 0.6772 - accuracy: 0.5709\n",
            "Epoch 4: val_loss improved from 0.67146 to 0.65912, saving model to /content/drive/MyDrive/DataSets/DeepLearning/detect_trees_near_electric_wires/base_model_weights1.hdf5\n",
            "32/32 [==============================] - 35s 1s/step - loss: 0.6772 - accuracy: 0.5709 - val_loss: 0.6591 - val_accuracy: 0.6620 - lr: 1.0000e-04\n",
            "Epoch 5/20\n",
            "32/32 [==============================] - ETA: 0s - loss: 0.6701 - accuracy: 0.5907\n",
            "Epoch 5: val_loss did not improve from 0.65912\n",
            "32/32 [==============================] - 35s 1s/step - loss: 0.6701 - accuracy: 0.5907 - val_loss: 0.6675 - val_accuracy: 0.6019 - lr: 1.0000e-04\n",
            "Epoch 6/20\n",
            "32/32 [==============================] - ETA: 0s - loss: 0.6653 - accuracy: 0.5907\n",
            "Epoch 6: val_loss improved from 0.65912 to 0.65887, saving model to /content/drive/MyDrive/DataSets/DeepLearning/detect_trees_near_electric_wires/base_model_weights1.hdf5\n",
            "32/32 [==============================] - 35s 1s/step - loss: 0.6653 - accuracy: 0.5907 - val_loss: 0.6589 - val_accuracy: 0.6296 - lr: 1.0000e-04\n",
            "Epoch 7/20\n",
            "32/32 [==============================] - ETA: 0s - loss: 0.6596 - accuracy: 0.6115\n",
            "Epoch 7: val_loss improved from 0.65887 to 0.64050, saving model to /content/drive/MyDrive/DataSets/DeepLearning/detect_trees_near_electric_wires/base_model_weights1.hdf5\n",
            "32/32 [==============================] - 35s 1s/step - loss: 0.6596 - accuracy: 0.6115 - val_loss: 0.6405 - val_accuracy: 0.6296 - lr: 1.0000e-04\n",
            "Epoch 8/20\n",
            "32/32 [==============================] - ETA: 0s - loss: 0.6636 - accuracy: 0.5907\n",
            "Epoch 8: val_loss did not improve from 0.64050\n",
            "32/32 [==============================] - 34s 1s/step - loss: 0.6636 - accuracy: 0.5907 - val_loss: 0.6472 - val_accuracy: 0.6296 - lr: 1.0000e-04\n",
            "Epoch 9/20\n",
            "32/32 [==============================] - ETA: 0s - loss: 0.6524 - accuracy: 0.6194\n",
            "Epoch 9: val_loss did not improve from 0.64050\n",
            "\n",
            "Epoch 9: ReduceLROnPlateau reducing learning rate to 9.999999747378752e-06.\n",
            "32/32 [==============================] - 34s 1s/step - loss: 0.6524 - accuracy: 0.6194 - val_loss: 0.6468 - val_accuracy: 0.6296 - lr: 1.0000e-04\n",
            "Epoch 10/20\n",
            "32/32 [==============================] - ETA: 0s - loss: 0.6498 - accuracy: 0.6214\n",
            "Epoch 10: val_loss improved from 0.64050 to 0.63411, saving model to /content/drive/MyDrive/DataSets/DeepLearning/detect_trees_near_electric_wires/base_model_weights1.hdf5\n",
            "32/32 [==============================] - 35s 1s/step - loss: 0.6498 - accuracy: 0.6214 - val_loss: 0.6341 - val_accuracy: 0.6620 - lr: 1.0000e-05\n",
            "Epoch 11/20\n",
            "32/32 [==============================] - ETA: 0s - loss: 0.6504 - accuracy: 0.6293\n",
            "Epoch 11: val_loss did not improve from 0.63411\n",
            "32/32 [==============================] - 34s 1s/step - loss: 0.6504 - accuracy: 0.6293 - val_loss: 0.6390 - val_accuracy: 0.6713 - lr: 1.0000e-05\n",
            "Epoch 12/20\n",
            "32/32 [==============================] - ETA: 0s - loss: 0.6478 - accuracy: 0.6283\n",
            "Epoch 12: val_loss did not improve from 0.63411\n",
            "\n",
            "Epoch 12: ReduceLROnPlateau reducing learning rate to 9.999999747378752e-07.\n",
            "32/32 [==============================] - 34s 1s/step - loss: 0.6478 - accuracy: 0.6283 - val_loss: 0.6400 - val_accuracy: 0.6389 - lr: 1.0000e-05\n",
            "Epoch 13/20\n",
            "32/32 [==============================] - ETA: 0s - loss: 0.6487 - accuracy: 0.6254\n",
            "Epoch 13: val_loss did not improve from 0.63411\n",
            "32/32 [==============================] - 34s 1s/step - loss: 0.6487 - accuracy: 0.6254 - val_loss: 0.6369 - val_accuracy: 0.6528 - lr: 1.0000e-06\n",
            "Epoch 13: early stopping\n"
          ]
        }
      ]
    },
    {
      "cell_type": "markdown",
      "source": [
        "the Model is Early stopped at Validation Accuracy of 65.28% and Validation loss 0.6254"
      ],
      "metadata": {
        "id": "A4Ku7YWXMHcy"
      }
    },
    {
      "cell_type": "markdown",
      "source": [
        "Plotting the Learning Curves"
      ],
      "metadata": {
        "id": "LawSPdkuMU3W"
      }
    },
    {
      "cell_type": "code",
      "source": [
        "acc = history.history['accuracy']\n",
        "val_acc = history.history['val_accuracy']\n",
        "\n",
        "loss = history.history['loss']\n",
        "val_loss = history.history['val_loss']\n",
        "\n",
        "plt.figure(figsize=(8, 8))\n",
        "plt.subplot(2, 1, 1)\n",
        "plt.plot(acc, label='Training Accuracy')\n",
        "plt.plot(val_acc, label='Validation Accuracy')\n",
        "plt.legend(loc='lower right')\n",
        "plt.ylabel('Accuracy')\n",
        "plt.ylim([min(plt.ylim()),1])\n",
        "plt.title('Training and Validation Accuracy')\n",
        "\n",
        "plt.subplot(2, 1, 2)\n",
        "plt.plot(loss, label='Training Loss')\n",
        "plt.plot(val_loss, label='Validation Loss')\n",
        "plt.legend(loc='upper right')\n",
        "plt.ylabel('Cross Entropy')\n",
        "plt.ylim([min(plt.ylim()),2])\n",
        "plt.title('Training and Validation Loss')\n",
        "plt.xlabel('epoch')\n",
        "plt.show()"
      ],
      "metadata": {
        "colab": {
          "base_uri": "https://localhost:8080/",
          "height": 513
        },
        "id": "LJw7vFeyodMt",
        "outputId": "9ad27fb6-bfed-49a1-d0b9-720f9f331a88"
      },
      "execution_count": null,
      "outputs": [
        {
          "output_type": "display_data",
          "data": {
            "text/plain": [
              "<Figure size 576x576 with 2 Axes>"
            ],
            "image/png": "[encoded data removed]"
          },
          "metadata": {
            "needs_background": "light"
          }
        }
      ]
    },
    {
      "cell_type": "markdown",
      "source": [
        "**Hyper Perameter Tuning**"
      ],
      "metadata": {
        "id": "DSdJdI-AMi77"
      }
    },
    {
      "cell_type": "code",
      "source": [
        "#Load the best model during initial training\n",
        "model.load_weights(ckpt_filename)"
      ],
      "metadata": {
        "id": "ZiPfR_yNsfup"
      },
      "execution_count": null,
      "outputs": []
    },
    {
      "cell_type": "code",
      "source": [
        "#unfreezing the layers of the base model\n",
        "base_model.trainable = True"
      ],
      "metadata": {
        "id": "wxe_goc-sqji"
      },
      "execution_count": null,
      "outputs": []
    },
    {
      "cell_type": "code",
      "source": [
        "model.summary()"
      ],
      "metadata": {
        "colab": {
          "base_uri": "https://localhost:8080/"
        },
        "id": "Ef3PmxLbsvmN",
        "outputId": "5363d646-fc72-41cd-fc7c-fe07c79ab026"
      },
      "execution_count": null,
      "outputs": [
        {
          "output_type": "stream",
          "name": "stdout",
          "text": [
            "Model: \"model\"\n",
            "__________________________________________________________________________________________________\n",
            " Layer (type)                   Output Shape         Param #     Connected to                     \n",
            "==================================================================================================\n",
            " input_3 (InputLayer)           [(None, None, None,  0           []                               \n",
            "                                 3)]                                                              \n",
            "                                                                                                  \n",
            " block1_conv1 (Conv2D)          (None, None, None,   864         ['input_3[0][0]']                \n",
            "                                32)                                                               \n",
            "                                                                                                  \n",
            " block1_conv1_bn (BatchNormaliz  (None, None, None,   128        ['block1_conv1[0][0]']           \n",
            " ation)                         32)                                                               \n",
            "                                                                                                  \n",
            " block1_conv1_act (Activation)  (None, None, None,   0           ['block1_conv1_bn[0][0]']        \n",
            "                                32)                                                               \n",
            "                                                                                                  \n",
            " block1_conv2 (Conv2D)          (None, None, None,   18432       ['block1_conv1_act[0][0]']       \n",
            "                                64)                                                               \n",
            "                                                                                                  \n",
            " block1_conv2_bn (BatchNormaliz  (None, None, None,   256        ['block1_conv2[0][0]']           \n",
            " ation)                         64)                                                               \n",
            "                                                                                                  \n",
            " block1_conv2_act (Activation)  (None, None, None,   0           ['block1_conv2_bn[0][0]']        \n",
            "                                64)                                                               \n",
            "                                                                                                  \n",
            " block2_sepconv1 (SeparableConv  (None, None, None,   8768       ['block1_conv2_act[0][0]']       \n",
            " 2D)                            128)                                                              \n",
            "                                                                                                  \n",
            " block2_sepconv1_bn (BatchNorma  (None, None, None,   512        ['block2_sepconv1[0][0]']        \n",
            " lization)                      128)                                                              \n",
            "                                                                                                  \n",
            " block2_sepconv2_act (Activatio  (None, None, None,   0          ['block2_sepconv1_bn[0][0]']     \n",
            " n)                             128)                                                              \n",
            "                                                                                                  \n",
            " block2_sepconv2 (SeparableConv  (None, None, None,   17536      ['block2_sepconv2_act[0][0]']    \n",
            " 2D)                            128)                                                              \n",
            "                                                                                                  \n",
            " block2_sepconv2_bn (BatchNorma  (None, None, None,   512        ['block2_sepconv2[0][0]']        \n",
            " lization)                      128)                                                              \n",
            "                                                                                                  \n",
            " conv2d_8 (Conv2D)              (None, None, None,   8192        ['block1_conv2_act[0][0]']       \n",
            "                                128)                                                              \n",
            "                                                                                                  \n",
            " block2_pool (MaxPooling2D)     (None, None, None,   0           ['block2_sepconv2_bn[0][0]']     \n",
            "                                128)                                                              \n",
            "                                                                                                  \n",
            " batch_normalization_8 (BatchNo  (None, None, None,   512        ['conv2d_8[0][0]']               \n",
            " rmalization)                   128)                                                              \n",
            "                                                                                                  \n",
            " add_24 (Add)                   (None, None, None,   0           ['block2_pool[0][0]',            \n",
            "                                128)                              'batch_normalization_8[0][0]']  \n",
            "                                                                                                  \n",
            " block3_sepconv1_act (Activatio  (None, None, None,   0          ['add_24[0][0]']                 \n",
            " n)                             128)                                                              \n",
            "                                                                                                  \n",
            " block3_sepconv1 (SeparableConv  (None, None, None,   33920      ['block3_sepconv1_act[0][0]']    \n",
            " 2D)                            256)                                                              \n",
            "                                                                                                  \n",
            " block3_sepconv1_bn (BatchNorma  (None, None, None,   1024       ['block3_sepconv1[0][0]']        \n",
            " lization)                      256)                                                              \n",
            "                                                                                                  \n",
            " block3_sepconv2_act (Activatio  (None, None, None,   0          ['block3_sepconv1_bn[0][0]']     \n",
            " n)                             256)                                                              \n",
            "                                                                                                  \n",
            " block3_sepconv2 (SeparableConv  (None, None, None,   67840      ['block3_sepconv2_act[0][0]']    \n",
            " 2D)                            256)                                                              \n",
            "                                                                                                  \n",
            " block3_sepconv2_bn (BatchNorma  (None, None, None,   1024       ['block3_sepconv2[0][0]']        \n",
            " lization)                      256)                                                              \n",
            "                                                                                                  \n",
            " conv2d_9 (Conv2D)              (None, None, None,   32768       ['add_24[0][0]']                 \n",
            "                                256)                                                              \n",
            "                                                                                                  \n",
            " block3_pool (MaxPooling2D)     (None, None, None,   0           ['block3_sepconv2_bn[0][0]']     \n",
            "                                256)                                                              \n",
            "                                                                                                  \n",
            " batch_normalization_9 (BatchNo  (None, None, None,   1024       ['conv2d_9[0][0]']               \n",
            " rmalization)                   256)                                                              \n",
            "                                                                                                  \n",
            " add_25 (Add)                   (None, None, None,   0           ['block3_pool[0][0]',            \n",
            "                                256)                              'batch_normalization_9[0][0]']  \n",
            "                                                                                                  \n",
            " block4_sepconv1_act (Activatio  (None, None, None,   0          ['add_25[0][0]']                 \n",
            " n)                             256)                                                              \n",
            "                                                                                                  \n",
            " block4_sepconv1 (SeparableConv  (None, None, None,   188672     ['block4_sepconv1_act[0][0]']    \n",
            " 2D)                            728)                                                              \n",
            "                                                                                                  \n",
            " block4_sepconv1_bn (BatchNorma  (None, None, None,   2912       ['block4_sepconv1[0][0]']        \n",
            " lization)                      728)                                                              \n",
            "                                                                                                  \n",
            " block4_sepconv2_act (Activatio  (None, None, None,   0          ['block4_sepconv1_bn[0][0]']     \n",
            " n)                             728)                                                              \n",
            "                                                                                                  \n",
            " block4_sepconv2 (SeparableConv  (None, None, None,   536536     ['block4_sepconv2_act[0][0]']    \n",
            " 2D)                            728)                                                              \n",
            "                                                                                                  \n",
            " block4_sepconv2_bn (BatchNorma  (None, None, None,   2912       ['block4_sepconv2[0][0]']        \n",
            " lization)                      728)                                                              \n",
            "                                                                                                  \n",
            " conv2d_10 (Conv2D)             (None, None, None,   186368      ['add_25[0][0]']                 \n",
            "                                728)                                                              \n",
            "                                                                                                  \n",
            " block4_pool (MaxPooling2D)     (None, None, None,   0           ['block4_sepconv2_bn[0][0]']     \n",
            "                                728)                                                              \n",
            "                                                                                                  \n",
            " batch_normalization_10 (BatchN  (None, None, None,   2912       ['conv2d_10[0][0]']              \n",
            " ormalization)                  728)                                                              \n",
            "                                                                                                  \n",
            " add_26 (Add)                   (None, None, None,   0           ['block4_pool[0][0]',            \n",
            "                                728)                              'batch_normalization_10[0][0]'] \n",
            "                                                                                                  \n",
            " block5_sepconv1_act (Activatio  (None, None, None,   0          ['add_26[0][0]']                 \n",
            " n)                             728)                                                              \n",
            "                                                                                                  \n",
            " block5_sepconv1 (SeparableConv  (None, None, None,   536536     ['block5_sepconv1_act[0][0]']    \n",
            " 2D)                            728)                                                              \n",
            "                                                                                                  \n",
            " block5_sepconv1_bn (BatchNorma  (None, None, None,   2912       ['block5_sepconv1[0][0]']        \n",
            " lization)                      728)                                                              \n",
            "                                                                                                  \n",
            " block5_sepconv2_act (Activatio  (None, None, None,   0          ['block5_sepconv1_bn[0][0]']     \n",
            " n)                             728)                                                              \n",
            "                                                                                                  \n",
            " block5_sepconv2 (SeparableConv  (None, None, None,   536536     ['block5_sepconv2_act[0][0]']    \n",
            " 2D)                            728)                                                              \n",
            "                                                                                                  \n",
            " block5_sepconv2_bn (BatchNorma  (None, None, None,   2912       ['block5_sepconv2[0][0]']        \n",
            " lization)                      728)                                                              \n",
            "                                                                                                  \n",
            " block5_sepconv3_act (Activatio  (None, None, None,   0          ['block5_sepconv2_bn[0][0]']     \n",
            " n)                             728)                                                              \n",
            "                                                                                                  \n",
            " block5_sepconv3 (SeparableConv  (None, None, None,   536536     ['block5_sepconv3_act[0][0]']    \n",
            " 2D)                            728)                                                              \n",
            "                                                                                                  \n",
            " block5_sepconv3_bn (BatchNorma  (None, None, None,   2912       ['block5_sepconv3[0][0]']        \n",
            " lization)                      728)                                                              \n",
            "                                                                                                  \n",
            " add_27 (Add)                   (None, None, None,   0           ['block5_sepconv3_bn[0][0]',     \n",
            "                                728)                              'add_26[0][0]']                 \n",
            "                                                                                                  \n",
            " block6_sepconv1_act (Activatio  (None, None, None,   0          ['add_27[0][0]']                 \n",
            " n)                             728)                                                              \n",
            "                                                                                                  \n",
            " block6_sepconv1 (SeparableConv  (None, None, None,   536536     ['block6_sepconv1_act[0][0]']    \n",
            " 2D)                            728)                                                              \n",
            "                                                                                                  \n",
            " block6_sepconv1_bn (BatchNorma  (None, None, None,   2912       ['block6_sepconv1[0][0]']        \n",
            " lization)                      728)                                                              \n",
            "                                                                                                  \n",
            " block6_sepconv2_act (Activatio  (None, None, None,   0          ['block6_sepconv1_bn[0][0]']     \n",
            " n)                             728)                                                              \n",
            "                                                                                                  \n",
            " block6_sepconv2 (SeparableConv  (None, None, None,   536536     ['block6_sepconv2_act[0][0]']    \n",
            " 2D)                            728)                                                              \n",
            "                                                                                                  \n",
            " block6_sepconv2_bn (BatchNorma  (None, None, None,   2912       ['block6_sepconv2[0][0]']        \n",
            " lization)                      728)                                                              \n",
            "                                                                                                  \n",
            " block6_sepconv3_act (Activatio  (None, None, None,   0          ['block6_sepconv2_bn[0][0]']     \n",
            " n)                             728)                                                              \n",
            "                                                                                                  \n",
            " block6_sepconv3 (SeparableConv  (None, None, None,   536536     ['block6_sepconv3_act[0][0]']    \n",
            " 2D)                            728)                                                              \n",
            "                                                                                                  \n",
            " block6_sepconv3_bn (BatchNorma  (None, None, None,   2912       ['block6_sepconv3[0][0]']        \n",
            " lization)                      728)                                                              \n",
            "                                                                                                  \n",
            " add_28 (Add)                   (None, None, None,   0           ['block6_sepconv3_bn[0][0]',     \n",
            "                                728)                              'add_27[0][0]']                 \n",
            "                                                                                                  \n",
            " block7_sepconv1_act (Activatio  (None, None, None,   0          ['add_28[0][0]']                 \n",
            " n)                             728)                                                              \n",
            "                                                                                                  \n",
            " block7_sepconv1 (SeparableConv  (None, None, None,   536536     ['block7_sepconv1_act[0][0]']    \n",
            " 2D)                            728)                                                              \n",
            "                                                                                                  \n",
            " block7_sepconv1_bn (BatchNorma  (None, None, None,   2912       ['block7_sepconv1[0][0]']        \n",
            " lization)                      728)                                                              \n",
            "                                                                                                  \n",
            " block7_sepconv2_act (Activatio  (None, None, None,   0          ['block7_sepconv1_bn[0][0]']     \n",
            " n)                             728)                                                              \n",
            "                                                                                                  \n",
            " block7_sepconv2 (SeparableConv  (None, None, None,   536536     ['block7_sepconv2_act[0][0]']    \n",
            " 2D)                            728)                                                              \n",
            "                                                                                                  \n",
            " block7_sepconv2_bn (BatchNorma  (None, None, None,   2912       ['block7_sepconv2[0][0]']        \n",
            " lization)                      728)                                                              \n",
            "                                                                                                  \n",
            " block7_sepconv3_act (Activatio  (None, None, None,   0          ['block7_sepconv2_bn[0][0]']     \n",
            " n)                             728)                                                              \n",
            "                                                                                                  \n",
            " block7_sepconv3 (SeparableConv  (None, None, None,   536536     ['block7_sepconv3_act[0][0]']    \n",
            " 2D)                            728)                                                              \n",
            "                                                                                                  \n",
            " block7_sepconv3_bn (BatchNorma  (None, None, None,   2912       ['block7_sepconv3[0][0]']        \n",
            " lization)                      728)                                                              \n",
            "                                                                                                  \n",
            " add_29 (Add)                   (None, None, None,   0           ['block7_sepconv3_bn[0][0]',     \n",
            "                                728)                              'add_28[0][0]']                 \n",
            "                                                                                                  \n",
            " block8_sepconv1_act (Activatio  (None, None, None,   0          ['add_29[0][0]']                 \n",
            " n)                             728)                                                              \n",
            "                                                                                                  \n",
            " block8_sepconv1 (SeparableConv  (None, None, None,   536536     ['block8_sepconv1_act[0][0]']    \n",
            " 2D)                            728)                                                              \n",
            "                                                                                                  \n",
            " block8_sepconv1_bn (BatchNorma  (None, None, None,   2912       ['block8_sepconv1[0][0]']        \n",
            " lization)                      728)                                                              \n",
            "                                                                                                  \n",
            " block8_sepconv2_act (Activatio  (None, None, None,   0          ['block8_sepconv1_bn[0][0]']     \n",
            " n)                             728)                                                              \n",
            "                                                                                                  \n",
            " block8_sepconv2 (SeparableConv  (None, None, None,   536536     ['block8_sepconv2_act[0][0]']    \n",
            " 2D)                            728)                                                              \n",
            "                                                                                                  \n",
            " block8_sepconv2_bn (BatchNorma  (None, None, None,   2912       ['block8_sepconv2[0][0]']        \n",
            " lization)                      728)                                                              \n",
            "                                                                                                  \n",
            " block8_sepconv3_act (Activatio  (None, None, None,   0          ['block8_sepconv2_bn[0][0]']     \n",
            " n)                             728)                                                              \n",
            "                                                                                                  \n",
            " block8_sepconv3 (SeparableConv  (None, None, None,   536536     ['block8_sepconv3_act[0][0]']    \n",
            " 2D)                            728)                                                              \n",
            "                                                                                                  \n",
            " block8_sepconv3_bn (BatchNorma  (None, None, None,   2912       ['block8_sepconv3[0][0]']        \n",
            " lization)                      728)                                                              \n",
            "                                                                                                  \n",
            " add_30 (Add)                   (None, None, None,   0           ['block8_sepconv3_bn[0][0]',     \n",
            "                                728)                              'add_29[0][0]']                 \n",
            "                                                                                                  \n",
            " block9_sepconv1_act (Activatio  (None, None, None,   0          ['add_30[0][0]']                 \n",
            " n)                             728)                                                              \n",
            "                                                                                                  \n",
            " block9_sepconv1 (SeparableConv  (None, None, None,   536536     ['block9_sepconv1_act[0][0]']    \n",
            " 2D)                            728)                                                              \n",
            "                                                                                                  \n",
            " block9_sepconv1_bn (BatchNorma  (None, None, None,   2912       ['block9_sepconv1[0][0]']        \n",
            " lization)                      728)                                                              \n",
            "                                                                                                  \n",
            " block9_sepconv2_act (Activatio  (None, None, None,   0          ['block9_sepconv1_bn[0][0]']     \n",
            " n)                             728)                                                              \n",
            "                                                                                                  \n",
            " block9_sepconv2 (SeparableConv  (None, None, None,   536536     ['block9_sepconv2_act[0][0]']    \n",
            " 2D)                            728)                                                              \n",
            "                                                                                                  \n",
            " block9_sepconv2_bn (BatchNorma  (None, None, None,   2912       ['block9_sepconv2[0][0]']        \n",
            " lization)                      728)                                                              \n",
            "                                                                                                  \n",
            " block9_sepconv3_act (Activatio  (None, None, None,   0          ['block9_sepconv2_bn[0][0]']     \n",
            " n)                             728)                                                              \n",
            "                                                                                                  \n",
            " block9_sepconv3 (SeparableConv  (None, None, None,   536536     ['block9_sepconv3_act[0][0]']    \n",
            " 2D)                            728)                                                              \n",
            "                                                                                                  \n",
            " block9_sepconv3_bn (BatchNorma  (None, None, None,   2912       ['block9_sepconv3[0][0]']        \n",
            " lization)                      728)                                                              \n",
            "                                                                                                  \n",
            " add_31 (Add)                   (None, None, None,   0           ['block9_sepconv3_bn[0][0]',     \n",
            "                                728)                              'add_30[0][0]']                 \n",
            "                                                                                                  \n",
            " block10_sepconv1_act (Activati  (None, None, None,   0          ['add_31[0][0]']                 \n",
            " on)                            728)                                                              \n",
            "                                                                                                  \n",
            " block10_sepconv1 (SeparableCon  (None, None, None,   536536     ['block10_sepconv1_act[0][0]']   \n",
            " v2D)                           728)                                                              \n",
            "                                                                                                  \n",
            " block10_sepconv1_bn (BatchNorm  (None, None, None,   2912       ['block10_sepconv1[0][0]']       \n",
            " alization)                     728)                                                              \n",
            "                                                                                                  \n",
            " block10_sepconv2_act (Activati  (None, None, None,   0          ['block10_sepconv1_bn[0][0]']    \n",
            " on)                            728)                                                              \n",
            "                                                                                                  \n",
            " block10_sepconv2 (SeparableCon  (None, None, None,   536536     ['block10_sepconv2_act[0][0]']   \n",
            " v2D)                           728)                                                              \n",
            "                                                                                                  \n",
            " block10_sepconv2_bn (BatchNorm  (None, None, None,   2912       ['block10_sepconv2[0][0]']       \n",
            " alization)                     728)                                                              \n",
            "                                                                                                  \n",
            " block10_sepconv3_act (Activati  (None, None, None,   0          ['block10_sepconv2_bn[0][0]']    \n",
            " on)                            728)                                                              \n",
            "                                                                                                  \n",
            " block10_sepconv3 (SeparableCon  (None, None, None,   536536     ['block10_sepconv3_act[0][0]']   \n",
            " v2D)                           728)                                                              \n",
            "                                                                                                  \n",
            " block10_sepconv3_bn (BatchNorm  (None, None, None,   2912       ['block10_sepconv3[0][0]']       \n",
            " alization)                     728)                                                              \n",
            "                                                                                                  \n",
            " add_32 (Add)                   (None, None, None,   0           ['block10_sepconv3_bn[0][0]',    \n",
            "                                728)                              'add_31[0][0]']                 \n",
            "                                                                                                  \n",
            " block11_sepconv1_act (Activati  (None, None, None,   0          ['add_32[0][0]']                 \n",
            " on)                            728)                                                              \n",
            "                                                                                                  \n",
            " block11_sepconv1 (SeparableCon  (None, None, None,   536536     ['block11_sepconv1_act[0][0]']   \n",
            " v2D)                           728)                                                              \n",
            "                                                                                                  \n",
            " block11_sepconv1_bn (BatchNorm  (None, None, None,   2912       ['block11_sepconv1[0][0]']       \n",
            " alization)                     728)                                                              \n",
            "                                                                                                  \n",
            " block11_sepconv2_act (Activati  (None, None, None,   0          ['block11_sepconv1_bn[0][0]']    \n",
            " on)                            728)                                                              \n",
            "                                                                                                  \n",
            " block11_sepconv2 (SeparableCon  (None, None, None,   536536     ['block11_sepconv2_act[0][0]']   \n",
            " v2D)                           728)                                                              \n",
            "                                                                                                  \n",
            " block11_sepconv2_bn (BatchNorm  (None, None, None,   2912       ['block11_sepconv2[0][0]']       \n",
            " alization)                     728)                                                              \n",
            "                                                                                                  \n",
            " block11_sepconv3_act (Activati  (None, None, None,   0          ['block11_sepconv2_bn[0][0]']    \n",
            " on)                            728)                                                              \n",
            "                                                                                                  \n",
            " block11_sepconv3 (SeparableCon  (None, None, None,   536536     ['block11_sepconv3_act[0][0]']   \n",
            " v2D)                           728)                                                              \n",
            "                                                                                                  \n",
            " block11_sepconv3_bn (BatchNorm  (None, None, None,   2912       ['block11_sepconv3[0][0]']       \n",
            " alization)                     728)                                                              \n",
            "                                                                                                  \n",
            " add_33 (Add)                   (None, None, None,   0           ['block11_sepconv3_bn[0][0]',    \n",
            "                                728)                              'add_32[0][0]']                 \n",
            "                                                                                                  \n",
            " block12_sepconv1_act (Activati  (None, None, None,   0          ['add_33[0][0]']                 \n",
            " on)                            728)                                                              \n",
            "                                                                                                  \n",
            " block12_sepconv1 (SeparableCon  (None, None, None,   536536     ['block12_sepconv1_act[0][0]']   \n",
            " v2D)                           728)                                                              \n",
            "                                                                                                  \n",
            " block12_sepconv1_bn (BatchNorm  (None, None, None,   2912       ['block12_sepconv1[0][0]']       \n",
            " alization)                     728)                                                              \n",
            "                                                                                                  \n",
            " block12_sepconv2_act (Activati  (None, None, None,   0          ['block12_sepconv1_bn[0][0]']    \n",
            " on)                            728)                                                              \n",
            "                                                                                                  \n",
            " block12_sepconv2 (SeparableCon  (None, None, None,   536536     ['block12_sepconv2_act[0][0]']   \n",
            " v2D)                           728)                                                              \n",
            "                                                                                                  \n",
            " block12_sepconv2_bn (BatchNorm  (None, None, None,   2912       ['block12_sepconv2[0][0]']       \n",
            " alization)                     728)                                                              \n",
            "                                                                                                  \n",
            " block12_sepconv3_act (Activati  (None, None, None,   0          ['block12_sepconv2_bn[0][0]']    \n",
            " on)                            728)                                                              \n",
            "                                                                                                  \n",
            " block12_sepconv3 (SeparableCon  (None, None, None,   536536     ['block12_sepconv3_act[0][0]']   \n",
            " v2D)                           728)                                                              \n",
            "                                                                                                  \n",
            " block12_sepconv3_bn (BatchNorm  (None, None, None,   2912       ['block12_sepconv3[0][0]']       \n",
            " alization)                     728)                                                              \n",
            "                                                                                                  \n",
            " add_34 (Add)                   (None, None, None,   0           ['block12_sepconv3_bn[0][0]',    \n",
            "                                728)                              'add_33[0][0]']                 \n",
            "                                                                                                  \n",
            " block13_sepconv1_act (Activati  (None, None, None,   0          ['add_34[0][0]']                 \n",
            " on)                            728)                                                              \n",
            "                                                                                                  \n",
            " block13_sepconv1 (SeparableCon  (None, None, None,   536536     ['block13_sepconv1_act[0][0]']   \n",
            " v2D)                           728)                                                              \n",
            "                                                                                                  \n",
            " block13_sepconv1_bn (BatchNorm  (None, None, None,   2912       ['block13_sepconv1[0][0]']       \n",
            " alization)                     728)                                                              \n",
            "                                                                                                  \n",
            " block13_sepconv2_act (Activati  (None, None, None,   0          ['block13_sepconv1_bn[0][0]']    \n",
            " on)                            728)                                                              \n",
            "                                                                                                  \n",
            " block13_sepconv2 (SeparableCon  (None, None, None,   752024     ['block13_sepconv2_act[0][0]']   \n",
            " v2D)                           1024)                                                             \n",
            "                                                                                                  \n",
            " block13_sepconv2_bn (BatchNorm  (None, None, None,   4096       ['block13_sepconv2[0][0]']       \n",
            " alization)                     1024)                                                             \n",
            "                                                                                                  \n",
            " conv2d_11 (Conv2D)             (None, None, None,   745472      ['add_34[0][0]']                 \n",
            "                                1024)                                                             \n",
            "                                                                                                  \n",
            " block13_pool (MaxPooling2D)    (None, None, None,   0           ['block13_sepconv2_bn[0][0]']    \n",
            "                                1024)                                                             \n",
            "                                                                                                  \n",
            " batch_normalization_11 (BatchN  (None, None, None,   4096       ['conv2d_11[0][0]']              \n",
            " ormalization)                  1024)                                                             \n",
            "                                                                                                  \n",
            " add_35 (Add)                   (None, None, None,   0           ['block13_pool[0][0]',           \n",
            "                                1024)                             'batch_normalization_11[0][0]'] \n",
            "                                                                                                  \n",
            " block14_sepconv1 (SeparableCon  (None, None, None,   1582080    ['add_35[0][0]']                 \n",
            " v2D)                           1536)                                                             \n",
            "                                                                                                  \n",
            " block14_sepconv1_bn (BatchNorm  (None, None, None,   6144       ['block14_sepconv1[0][0]']       \n",
            " alization)                     1536)                                                             \n",
            "                                                                                                  \n",
            " block14_sepconv1_act (Activati  (None, None, None,   0          ['block14_sepconv1_bn[0][0]']    \n",
            " on)                            1536)                                                             \n",
            "                                                                                                  \n",
            " block14_sepconv2 (SeparableCon  (None, None, None,   3159552    ['block14_sepconv1_act[0][0]']   \n",
            " v2D)                           2048)                                                             \n",
            "                                                                                                  \n",
            " block14_sepconv2_bn (BatchNorm  (None, None, None,   8192       ['block14_sepconv2[0][0]']       \n",
            " alization)                     2048)                                                             \n",
            "                                                                                                  \n",
            " block14_sepconv2_act (Activati  (None, None, None,   0          ['block14_sepconv2_bn[0][0]']    \n",
            " on)                            2048)                                                             \n",
            "                                                                                                  \n",
            " global_average_pooling2d_2 (Gl  (None, 2048)        0           ['block14_sepconv2_act[0][0]']   \n",
            " obalAveragePooling2D)                                                                            \n",
            "                                                                                                  \n",
            " dropout_3 (Dropout)            (None, 2048)         0           ['global_average_pooling2d_2[0][0\n",
            "                                                                 ]']                              \n",
            "                                                                                                  \n",
            " dense_3 (Dense)                (None, 1)            2049        ['dropout_3[0][0]']              \n",
            "                                                                                                  \n",
            "==================================================================================================\n",
            "Total params: 20,863,529\n",
            "Trainable params: 20,809,001\n",
            "Non-trainable params: 54,528\n",
            "__________________________________________________________________________________________________\n"
          ]
        }
      ]
    },
    {
      "cell_type": "markdown",
      "source": [
        "After Unfreezing you can see that training parameters are incresed to 20,809,001"
      ],
      "metadata": {
        "id": "Ms-TC0XCMwAL"
      }
    },
    {
      "cell_type": "code",
      "source": [
        "#compile model\n",
        "model.compile(optimizer= Adam(lr=base_learning_rate/10), loss= \"binary_crossentropy\", metrics = ['accuracy'])\n",
        "\n",
        "# Callbacks\n",
        "final_ckpt_filename= \"/content/drive/MyDrive/DataSets/DeepLearning/detect_trees_near_electric_wires/base_model_weight_best_model.hdf5\"\n",
        "checkpoint = ModelCheckpoint(filepath=final_ckpt_filename, save_best_only=True, save_weights_only=True, verbose = 1)\n",
        "\n",
        "lr_reduce = ReduceLROnPlateau(monitor='val_loss', factor=0.1, patience=1, verbose=1)\n",
        "early_stop = EarlyStopping(monitor='val_loss', min_delta=0.0001, patience=2, mode='min', verbose = 1)"
      ],
      "metadata": {
        "colab": {
          "base_uri": "https://localhost:8080/"
        },
        "id": "VTPxjGk3sxmo",
        "outputId": "6f8d9511-49b1-48ac-f5ec-98f01674d8e6"
      },
      "execution_count": null,
      "outputs": [
        {
          "output_type": "stream",
          "name": "stderr",
          "text": [
            "/usr/local/lib/python3.7/dist-packages/keras/optimizer_v2/adam.py:105: UserWarning: The `lr` argument is deprecated, use `learning_rate` instead.\n",
            "  super(Adam, self).__init__(name, **kwargs)\n"
          ]
        }
      ]
    },
    {
      "cell_type": "code",
      "source": [
        "fine_tune_epochs = 20\n",
        "\n",
        "# Fitting the model\n",
        "history_unfreeze = model.fit(train_data,\n",
        "                    epochs= fine_tune_epochs,\n",
        "                    validation_data=val_data,\n",
        "                    callbacks=[checkpoint, early_stop, lr_reduce],\n",
        "                    )"
      ],
      "metadata": {
        "colab": {
          "base_uri": "https://localhost:8080/"
        },
        "id": "hbADzP1ptGty",
        "outputId": "7dd1c0aa-bf84-4315-e91a-7b43e0aab918"
      },
      "execution_count": null,
      "outputs": [
        {
          "output_type": "stream",
          "name": "stdout",
          "text": [
            "Epoch 1/20\n",
            "32/32 [==============================] - ETA: 0s - loss: 0.6985 - accuracy: 0.5134\n",
            "Epoch 1: val_loss improved from inf to 0.64083, saving model to /content/drive/MyDrive/DataSets/DeepLearning/detect_trees_near_electric_wires/base_model_weight_best_model.hdf5\n",
            "32/32 [==============================] - 56s 1s/step - loss: 0.6985 - accuracy: 0.5134 - val_loss: 0.6408 - val_accuracy: 0.6713 - lr: 1.0000e-05\n",
            "Epoch 2/20\n",
            "32/32 [==============================] - ETA: 0s - loss: 0.6746 - accuracy: 0.5847\n",
            "Epoch 2: val_loss improved from 0.64083 to 0.62569, saving model to /content/drive/MyDrive/DataSets/DeepLearning/detect_trees_near_electric_wires/base_model_weight_best_model.hdf5\n",
            "32/32 [==============================] - 49s 2s/step - loss: 0.6746 - accuracy: 0.5847 - val_loss: 0.6257 - val_accuracy: 0.6898 - lr: 1.0000e-05\n",
            "Epoch 3/20\n",
            "32/32 [==============================] - ETA: 0s - loss: 0.6548 - accuracy: 0.6244\n",
            "Epoch 3: val_loss improved from 0.62569 to 0.61613, saving model to /content/drive/MyDrive/DataSets/DeepLearning/detect_trees_near_electric_wires/base_model_weight_best_model.hdf5\n",
            "32/32 [==============================] - 47s 1s/step - loss: 0.6548 - accuracy: 0.6244 - val_loss: 0.6161 - val_accuracy: 0.6898 - lr: 1.0000e-05\n",
            "Epoch 4/20\n",
            "32/32 [==============================] - ETA: 0s - loss: 0.6330 - accuracy: 0.6710\n",
            "Epoch 4: val_loss improved from 0.61613 to 0.60737, saving model to /content/drive/MyDrive/DataSets/DeepLearning/detect_trees_near_electric_wires/base_model_weight_best_model.hdf5\n",
            "32/32 [==============================] - 47s 1s/step - loss: 0.6330 - accuracy: 0.6710 - val_loss: 0.6074 - val_accuracy: 0.6898 - lr: 1.0000e-05\n",
            "Epoch 5/20\n",
            "32/32 [==============================] - ETA: 0s - loss: 0.6128 - accuracy: 0.7007\n",
            "Epoch 5: val_loss improved from 0.60737 to 0.58832, saving model to /content/drive/MyDrive/DataSets/DeepLearning/detect_trees_near_electric_wires/base_model_weight_best_model.hdf5\n",
            "32/32 [==============================] - 47s 1s/step - loss: 0.6128 - accuracy: 0.7007 - val_loss: 0.5883 - val_accuracy: 0.7500 - lr: 1.0000e-05\n",
            "Epoch 6/20\n",
            "32/32 [==============================] - ETA: 0s - loss: 0.5952 - accuracy: 0.7106\n",
            "Epoch 6: val_loss improved from 0.58832 to 0.57743, saving model to /content/drive/MyDrive/DataSets/DeepLearning/detect_trees_near_electric_wires/base_model_weight_best_model.hdf5\n",
            "32/32 [==============================] - 47s 1s/step - loss: 0.5952 - accuracy: 0.7106 - val_loss: 0.5774 - val_accuracy: 0.7407 - lr: 1.0000e-05\n",
            "Epoch 7/20\n",
            "32/32 [==============================] - ETA: 0s - loss: 0.5779 - accuracy: 0.7245\n",
            "Epoch 7: val_loss improved from 0.57743 to 0.57728, saving model to /content/drive/MyDrive/DataSets/DeepLearning/detect_trees_near_electric_wires/base_model_weight_best_model.hdf5\n",
            "32/32 [==============================] - 47s 1s/step - loss: 0.5779 - accuracy: 0.7245 - val_loss: 0.5773 - val_accuracy: 0.7037 - lr: 1.0000e-05\n",
            "Epoch 8/20\n",
            "32/32 [==============================] - ETA: 0s - loss: 0.5610 - accuracy: 0.7393\n",
            "Epoch 8: val_loss improved from 0.57728 to 0.54756, saving model to /content/drive/MyDrive/DataSets/DeepLearning/detect_trees_near_electric_wires/base_model_weight_best_model.hdf5\n",
            "32/32 [==============================] - 47s 1s/step - loss: 0.5610 - accuracy: 0.7393 - val_loss: 0.5476 - val_accuracy: 0.7546 - lr: 1.0000e-05\n",
            "Epoch 9/20\n",
            "32/32 [==============================] - ETA: 0s - loss: 0.5494 - accuracy: 0.7453\n",
            "Epoch 9: val_loss improved from 0.54756 to 0.54064, saving model to /content/drive/MyDrive/DataSets/DeepLearning/detect_trees_near_electric_wires/base_model_weight_best_model.hdf5\n",
            "32/32 [==============================] - 47s 1s/step - loss: 0.5494 - accuracy: 0.7453 - val_loss: 0.5406 - val_accuracy: 0.7361 - lr: 1.0000e-05\n",
            "Epoch 10/20\n",
            "32/32 [==============================] - ETA: 0s - loss: 0.5355 - accuracy: 0.7463\n",
            "Epoch 10: val_loss improved from 0.54064 to 0.51422, saving model to /content/drive/MyDrive/DataSets/DeepLearning/detect_trees_near_electric_wires/base_model_weight_best_model.hdf5\n",
            "32/32 [==============================] - 47s 1s/step - loss: 0.5355 - accuracy: 0.7463 - val_loss: 0.5142 - val_accuracy: 0.7685 - lr: 1.0000e-05\n",
            "Epoch 11/20\n",
            "32/32 [==============================] - ETA: 0s - loss: 0.5173 - accuracy: 0.7493\n",
            "Epoch 11: val_loss did not improve from 0.51422\n",
            "\n",
            "Epoch 11: ReduceLROnPlateau reducing learning rate to 9.999999747378752e-07.\n",
            "32/32 [==============================] - 46s 1s/step - loss: 0.5173 - accuracy: 0.7493 - val_loss: 0.5205 - val_accuracy: 0.7546 - lr: 1.0000e-05\n",
            "Epoch 12/20\n",
            "32/32 [==============================] - ETA: 0s - loss: 0.5019 - accuracy: 0.7651\n",
            "Epoch 12: val_loss did not improve from 0.51422\n",
            "\n",
            "Epoch 12: ReduceLROnPlateau reducing learning rate to 9.999999974752428e-08.\n",
            "32/32 [==============================] - 46s 1s/step - loss: 0.5019 - accuracy: 0.7651 - val_loss: 0.5206 - val_accuracy: 0.7500 - lr: 1.0000e-06\n",
            "Epoch 12: early stopping\n"
          ]
        }
      ]
    },
    {
      "cell_type": "markdown",
      "source": [
        "After Hyper perameter tuning, the model Accuracy incresed to 75%"
      ],
      "metadata": {
        "id": "25v5gRsiM_jQ"
      }
    },
    {
      "cell_type": "code",
      "source": [
        "acc = history_unfreeze.history['accuracy']\n",
        "val_acc = history_unfreeze.history['val_accuracy']\n",
        "\n",
        "loss = history_unfreeze.history['loss']\n",
        "val_loss = history_unfreeze.history['val_loss']\n",
        "\n",
        "plt.figure(figsize=(8, 8))\n",
        "plt.subplot(2, 1, 1)\n",
        "plt.plot(acc, label='Training Accuracy')\n",
        "plt.plot(val_acc, label='Validation Accuracy')\n",
        "plt.legend(loc='lower right')\n",
        "plt.ylabel('Accuracy')\n",
        "plt.ylim([min(plt.ylim()),1])\n",
        "plt.title('Training and Validation Accuracy after unfreezing all layers')\n",
        "\n",
        "plt.subplot(2, 1, 2)\n",
        "plt.plot(loss, label='Training Loss')\n",
        "plt.plot(val_loss, label='Validation Loss')\n",
        "plt.legend(loc='upper right')\n",
        "plt.ylabel('Cross Entropy')\n",
        "plt.ylim([0,1.0])\n",
        "plt.title('Training and Validation Loss after unfreezing all layers')\n",
        "plt.xlabel('epoch')\n",
        "plt.show()"
      ],
      "metadata": {
        "colab": {
          "base_uri": "https://localhost:8080/",
          "height": 513
        },
        "id": "KAKnb7_1tML4",
        "outputId": "850a3d7d-5f8d-469e-c813-265b80bbfc43"
      },
      "execution_count": null,
      "outputs": [
        {
          "output_type": "display_data",
          "data": {
            "text/plain": [
              "<Figure size 576x576 with 2 Axes>"
            ],
            "image/png": "[encoded data removed]"
          },
          "metadata": {
            "needs_background": "light"
          }
        }
      ]
    },
    {
      "cell_type": "code",
      "source": [
        "#Load the best model\n",
        "model.load_weights(final_ckpt_filename)"
      ],
      "metadata": {
        "id": "d6qm6XFJxMNV"
      },
      "execution_count": null,
      "outputs": []
    },
    {
      "cell_type": "code",
      "source": [
        "model.summary()"
      ],
      "metadata": {
        "colab": {
          "base_uri": "https://localhost:8080/"
        },
        "id": "7IxyrN0kxbEo",
        "outputId": "77b9e3c5-862a-4792-df4f-54b7938d2a84"
      },
      "execution_count": null,
      "outputs": [
        {
          "output_type": "stream",
          "name": "stdout",
          "text": [
            "Model: \"model\"\n",
            "__________________________________________________________________________________________________\n",
            " Layer (type)                   Output Shape         Param #     Connected to                     \n",
            "==================================================================================================\n",
            " input_3 (InputLayer)           [(None, None, None,  0           []                               \n",
            "                                 3)]                                                              \n",
            "                                                                                                  \n",
            " block1_conv1 (Conv2D)          (None, None, None,   864         ['input_3[0][0]']                \n",
            "                                32)                                                               \n",
            "                                                                                                  \n",
            " block1_conv1_bn (BatchNormaliz  (None, None, None,   128        ['block1_conv1[0][0]']           \n",
            " ation)                         32)                                                               \n",
            "                                                                                                  \n",
            " block1_conv1_act (Activation)  (None, None, None,   0           ['block1_conv1_bn[0][0]']        \n",
            "                                32)                                                               \n",
            "                                                                                                  \n",
            " block1_conv2 (Conv2D)          (None, None, None,   18432       ['block1_conv1_act[0][0]']       \n",
            "                                64)                                                               \n",
            "                                                                                                  \n",
            " block1_conv2_bn (BatchNormaliz  (None, None, None,   256        ['block1_conv2[0][0]']           \n",
            " ation)                         64)                                                               \n",
            "                                                                                                  \n",
            " block1_conv2_act (Activation)  (None, None, None,   0           ['block1_conv2_bn[0][0]']        \n",
            "                                64)                                                               \n",
            "                                                                                                  \n",
            " block2_sepconv1 (SeparableConv  (None, None, None,   8768       ['block1_conv2_act[0][0]']       \n",
            " 2D)                            128)                                                              \n",
            "                                                                                                  \n",
            " block2_sepconv1_bn (BatchNorma  (None, None, None,   512        ['block2_sepconv1[0][0]']        \n",
            " lization)                      128)                                                              \n",
            "                                                                                                  \n",
            " block2_sepconv2_act (Activatio  (None, None, None,   0          ['block2_sepconv1_bn[0][0]']     \n",
            " n)                             128)                                                              \n",
            "                                                                                                  \n",
            " block2_sepconv2 (SeparableConv  (None, None, None,   17536      ['block2_sepconv2_act[0][0]']    \n",
            " 2D)                            128)                                                              \n",
            "                                                                                                  \n",
            " block2_sepconv2_bn (BatchNorma  (None, None, None,   512        ['block2_sepconv2[0][0]']        \n",
            " lization)                      128)                                                              \n",
            "                                                                                                  \n",
            " conv2d_8 (Conv2D)              (None, None, None,   8192        ['block1_conv2_act[0][0]']       \n",
            "                                128)                                                              \n",
            "                                                                                                  \n",
            " block2_pool (MaxPooling2D)     (None, None, None,   0           ['block2_sepconv2_bn[0][0]']     \n",
            "                                128)                                                              \n",
            "                                                                                                  \n",
            " batch_normalization_8 (BatchNo  (None, None, None,   512        ['conv2d_8[0][0]']               \n",
            " rmalization)                   128)                                                              \n",
            "                                                                                                  \n",
            " add_24 (Add)                   (None, None, None,   0           ['block2_pool[0][0]',            \n",
            "                                128)                              'batch_normalization_8[0][0]']  \n",
            "                                                                                                  \n",
            " block3_sepconv1_act (Activatio  (None, None, None,   0          ['add_24[0][0]']                 \n",
            " n)                             128)                                                              \n",
            "                                                                                                  \n",
            " block3_sepconv1 (SeparableConv  (None, None, None,   33920      ['block3_sepconv1_act[0][0]']    \n",
            " 2D)                            256)                                                              \n",
            "                                                                                                  \n",
            " block3_sepconv1_bn (BatchNorma  (None, None, None,   1024       ['block3_sepconv1[0][0]']        \n",
            " lization)                      256)                                                              \n",
            "                                                                                                  \n",
            " block3_sepconv2_act (Activatio  (None, None, None,   0          ['block3_sepconv1_bn[0][0]']     \n",
            " n)                             256)                                                              \n",
            "                                                                                                  \n",
            " block3_sepconv2 (SeparableConv  (None, None, None,   67840      ['block3_sepconv2_act[0][0]']    \n",
            " 2D)                            256)                                                              \n",
            "                                                                                                  \n",
            " block3_sepconv2_bn (BatchNorma  (None, None, None,   1024       ['block3_sepconv2[0][0]']        \n",
            " lization)                      256)                                                              \n",
            "                                                                                                  \n",
            " conv2d_9 (Conv2D)              (None, None, None,   32768       ['add_24[0][0]']                 \n",
            "                                256)                                                              \n",
            "                                                                                                  \n",
            " block3_pool (MaxPooling2D)     (None, None, None,   0           ['block3_sepconv2_bn[0][0]']     \n",
            "                                256)                                                              \n",
            "                                                                                                  \n",
            " batch_normalization_9 (BatchNo  (None, None, None,   1024       ['conv2d_9[0][0]']               \n",
            " rmalization)                   256)                                                              \n",
            "                                                                                                  \n",
            " add_25 (Add)                   (None, None, None,   0           ['block3_pool[0][0]',            \n",
            "                                256)                              'batch_normalization_9[0][0]']  \n",
            "                                                                                                  \n",
            " block4_sepconv1_act (Activatio  (None, None, None,   0          ['add_25[0][0]']                 \n",
            " n)                             256)                                                              \n",
            "                                                                                                  \n",
            " block4_sepconv1 (SeparableConv  (None, None, None,   188672     ['block4_sepconv1_act[0][0]']    \n",
            " 2D)                            728)                                                              \n",
            "                                                                                                  \n",
            " block4_sepconv1_bn (BatchNorma  (None, None, None,   2912       ['block4_sepconv1[0][0]']        \n",
            " lization)                      728)                                                              \n",
            "                                                                                                  \n",
            " block4_sepconv2_act (Activatio  (None, None, None,   0          ['block4_sepconv1_bn[0][0]']     \n",
            " n)                             728)                                                              \n",
            "                                                                                                  \n",
            " block4_sepconv2 (SeparableConv  (None, None, None,   536536     ['block4_sepconv2_act[0][0]']    \n",
            " 2D)                            728)                                                              \n",
            "                                                                                                  \n",
            " block4_sepconv2_bn (BatchNorma  (None, None, None,   2912       ['block4_sepconv2[0][0]']        \n",
            " lization)                      728)                                                              \n",
            "                                                                                                  \n",
            " conv2d_10 (Conv2D)             (None, None, None,   186368      ['add_25[0][0]']                 \n",
            "                                728)                                                              \n",
            "                                                                                                  \n",
            " block4_pool (MaxPooling2D)     (None, None, None,   0           ['block4_sepconv2_bn[0][0]']     \n",
            "                                728)                                                              \n",
            "                                                                                                  \n",
            " batch_normalization_10 (BatchN  (None, None, None,   2912       ['conv2d_10[0][0]']              \n",
            " ormalization)                  728)                                                              \n",
            "                                                                                                  \n",
            " add_26 (Add)                   (None, None, None,   0           ['block4_pool[0][0]',            \n",
            "                                728)                              'batch_normalization_10[0][0]'] \n",
            "                                                                                                  \n",
            " block5_sepconv1_act (Activatio  (None, None, None,   0          ['add_26[0][0]']                 \n",
            " n)                             728)                                                              \n",
            "                                                                                                  \n",
            " block5_sepconv1 (SeparableConv  (None, None, None,   536536     ['block5_sepconv1_act[0][0]']    \n",
            " 2D)                            728)                                                              \n",
            "                                                                                                  \n",
            " block5_sepconv1_bn (BatchNorma  (None, None, None,   2912       ['block5_sepconv1[0][0]']        \n",
            " lization)                      728)                                                              \n",
            "                                                                                                  \n",
            " block5_sepconv2_act (Activatio  (None, None, None,   0          ['block5_sepconv1_bn[0][0]']     \n",
            " n)                             728)                                                              \n",
            "                                                                                                  \n",
            " block5_sepconv2 (SeparableConv  (None, None, None,   536536     ['block5_sepconv2_act[0][0]']    \n",
            " 2D)                            728)                                                              \n",
            "                                                                                                  \n",
            " block5_sepconv2_bn (BatchNorma  (None, None, None,   2912       ['block5_sepconv2[0][0]']        \n",
            " lization)                      728)                                                              \n",
            "                                                                                                  \n",
            " block5_sepconv3_act (Activatio  (None, None, None,   0          ['block5_sepconv2_bn[0][0]']     \n",
            " n)                             728)                                                              \n",
            "                                                                                                  \n",
            " block5_sepconv3 (SeparableConv  (None, None, None,   536536     ['block5_sepconv3_act[0][0]']    \n",
            " 2D)                            728)                                                              \n",
            "                                                                                                  \n",
            " block5_sepconv3_bn (BatchNorma  (None, None, None,   2912       ['block5_sepconv3[0][0]']        \n",
            " lization)                      728)                                                              \n",
            "                                                                                                  \n",
            " add_27 (Add)                   (None, None, None,   0           ['block5_sepconv3_bn[0][0]',     \n",
            "                                728)                              'add_26[0][0]']                 \n",
            "                                                                                                  \n",
            " block6_sepconv1_act (Activatio  (None, None, None,   0          ['add_27[0][0]']                 \n",
            " n)                             728)                                                              \n",
            "                                                                                                  \n",
            " block6_sepconv1 (SeparableConv  (None, None, None,   536536     ['block6_sepconv1_act[0][0]']    \n",
            " 2D)                            728)                                                              \n",
            "                                                                                                  \n",
            " block6_sepconv1_bn (BatchNorma  (None, None, None,   2912       ['block6_sepconv1[0][0]']        \n",
            " lization)                      728)                                                              \n",
            "                                                                                                  \n",
            " block6_sepconv2_act (Activatio  (None, None, None,   0          ['block6_sepconv1_bn[0][0]']     \n",
            " n)                             728)                                                              \n",
            "                                                                                                  \n",
            " block6_sepconv2 (SeparableConv  (None, None, None,   536536     ['block6_sepconv2_act[0][0]']    \n",
            " 2D)                            728)                                                              \n",
            "                                                                                                  \n",
            " block6_sepconv2_bn (BatchNorma  (None, None, None,   2912       ['block6_sepconv2[0][0]']        \n",
            " lization)                      728)                                                              \n",
            "                                                                                                  \n",
            " block6_sepconv3_act (Activatio  (None, None, None,   0          ['block6_sepconv2_bn[0][0]']     \n",
            " n)                             728)                                                              \n",
            "                                                                                                  \n",
            " block6_sepconv3 (SeparableConv  (None, None, None,   536536     ['block6_sepconv3_act[0][0]']    \n",
            " 2D)                            728)                                                              \n",
            "                                                                                                  \n",
            " block6_sepconv3_bn (BatchNorma  (None, None, None,   2912       ['block6_sepconv3[0][0]']        \n",
            " lization)                      728)                                                              \n",
            "                                                                                                  \n",
            " add_28 (Add)                   (None, None, None,   0           ['block6_sepconv3_bn[0][0]',     \n",
            "                                728)                              'add_27[0][0]']                 \n",
            "                                                                                                  \n",
            " block7_sepconv1_act (Activatio  (None, None, None,   0          ['add_28[0][0]']                 \n",
            " n)                             728)                                                              \n",
            "                                                                                                  \n",
            " block7_sepconv1 (SeparableConv  (None, None, None,   536536     ['block7_sepconv1_act[0][0]']    \n",
            " 2D)                            728)                                                              \n",
            "                                                                                                  \n",
            " block7_sepconv1_bn (BatchNorma  (None, None, None,   2912       ['block7_sepconv1[0][0]']        \n",
            " lization)                      728)                                                              \n",
            "                                                                                                  \n",
            " block7_sepconv2_act (Activatio  (None, None, None,   0          ['block7_sepconv1_bn[0][0]']     \n",
            " n)                             728)                                                              \n",
            "                                                                                                  \n",
            " block7_sepconv2 (SeparableConv  (None, None, None,   536536     ['block7_sepconv2_act[0][0]']    \n",
            " 2D)                            728)                                                              \n",
            "                                                                                                  \n",
            " block7_sepconv2_bn (BatchNorma  (None, None, None,   2912       ['block7_sepconv2[0][0]']        \n",
            " lization)                      728)                                                              \n",
            "                                                                                                  \n",
            " block7_sepconv3_act (Activatio  (None, None, None,   0          ['block7_sepconv2_bn[0][0]']     \n",
            " n)                             728)                                                              \n",
            "                                                                                                  \n",
            " block7_sepconv3 (SeparableConv  (None, None, None,   536536     ['block7_sepconv3_act[0][0]']    \n",
            " 2D)                            728)                                                              \n",
            "                                                                                                  \n",
            " block7_sepconv3_bn (BatchNorma  (None, None, None,   2912       ['block7_sepconv3[0][0]']        \n",
            " lization)                      728)                                                              \n",
            "                                                                                                  \n",
            " add_29 (Add)                   (None, None, None,   0           ['block7_sepconv3_bn[0][0]',     \n",
            "                                728)                              'add_28[0][0]']                 \n",
            "                                                                                                  \n",
            " block8_sepconv1_act (Activatio  (None, None, None,   0          ['add_29[0][0]']                 \n",
            " n)                             728)                                                              \n",
            "                                                                                                  \n",
            " block8_sepconv1 (SeparableConv  (None, None, None,   536536     ['block8_sepconv1_act[0][0]']    \n",
            " 2D)                            728)                                                              \n",
            "                                                                                                  \n",
            " block8_sepconv1_bn (BatchNorma  (None, None, None,   2912       ['block8_sepconv1[0][0]']        \n",
            " lization)                      728)                                                              \n",
            "                                                                                                  \n",
            " block8_sepconv2_act (Activatio  (None, None, None,   0          ['block8_sepconv1_bn[0][0]']     \n",
            " n)                             728)                                                              \n",
            "                                                                                                  \n",
            " block8_sepconv2 (SeparableConv  (None, None, None,   536536     ['block8_sepconv2_act[0][0]']    \n",
            " 2D)                            728)                                                              \n",
            "                                                                                                  \n",
            " block8_sepconv2_bn (BatchNorma  (None, None, None,   2912       ['block8_sepconv2[0][0]']        \n",
            " lization)                      728)                                                              \n",
            "                                                                                                  \n",
            " block8_sepconv3_act (Activatio  (None, None, None,   0          ['block8_sepconv2_bn[0][0]']     \n",
            " n)                             728)                                                              \n",
            "                                                                                                  \n",
            " block8_sepconv3 (SeparableConv  (None, None, None,   536536     ['block8_sepconv3_act[0][0]']    \n",
            " 2D)                            728)                                                              \n",
            "                                                                                                  \n",
            " block8_sepconv3_bn (BatchNorma  (None, None, None,   2912       ['block8_sepconv3[0][0]']        \n",
            " lization)                      728)                                                              \n",
            "                                                                                                  \n",
            " add_30 (Add)                   (None, None, None,   0           ['block8_sepconv3_bn[0][0]',     \n",
            "                                728)                              'add_29[0][0]']                 \n",
            "                                                                                                  \n",
            " block9_sepconv1_act (Activatio  (None, None, None,   0          ['add_30[0][0]']                 \n",
            " n)                             728)                                                              \n",
            "                                                                                                  \n",
            " block9_sepconv1 (SeparableConv  (None, None, None,   536536     ['block9_sepconv1_act[0][0]']    \n",
            " 2D)                            728)                                                              \n",
            "                                                                                                  \n",
            " block9_sepconv1_bn (BatchNorma  (None, None, None,   2912       ['block9_sepconv1[0][0]']        \n",
            " lization)                      728)                                                              \n",
            "                                                                                                  \n",
            " block9_sepconv2_act (Activatio  (None, None, None,   0          ['block9_sepconv1_bn[0][0]']     \n",
            " n)                             728)                                                              \n",
            "                                                                                                  \n",
            " block9_sepconv2 (SeparableConv  (None, None, None,   536536     ['block9_sepconv2_act[0][0]']    \n",
            " 2D)                            728)                                                              \n",
            "                                                                                                  \n",
            " block9_sepconv2_bn (BatchNorma  (None, None, None,   2912       ['block9_sepconv2[0][0]']        \n",
            " lization)                      728)                                                              \n",
            "                                                                                                  \n",
            " block9_sepconv3_act (Activatio  (None, None, None,   0          ['block9_sepconv2_bn[0][0]']     \n",
            " n)                             728)                                                              \n",
            "                                                                                                  \n",
            " block9_sepconv3 (SeparableConv  (None, None, None,   536536     ['block9_sepconv3_act[0][0]']    \n",
            " 2D)                            728)                                                              \n",
            "                                                                                                  \n",
            " block9_sepconv3_bn (BatchNorma  (None, None, None,   2912       ['block9_sepconv3[0][0]']        \n",
            " lization)                      728)                                                              \n",
            "                                                                                                  \n",
            " add_31 (Add)                   (None, None, None,   0           ['block9_sepconv3_bn[0][0]',     \n",
            "                                728)                              'add_30[0][0]']                 \n",
            "                                                                                                  \n",
            " block10_sepconv1_act (Activati  (None, None, None,   0          ['add_31[0][0]']                 \n",
            " on)                            728)                                                              \n",
            "                                                                                                  \n",
            " block10_sepconv1 (SeparableCon  (None, None, None,   536536     ['block10_sepconv1_act[0][0]']   \n",
            " v2D)                           728)                                                              \n",
            "                                                                                                  \n",
            " block10_sepconv1_bn (BatchNorm  (None, None, None,   2912       ['block10_sepconv1[0][0]']       \n",
            " alization)                     728)                                                              \n",
            "                                                                                                  \n",
            " block10_sepconv2_act (Activati  (None, None, None,   0          ['block10_sepconv1_bn[0][0]']    \n",
            " on)                            728)                                                              \n",
            "                                                                                                  \n",
            " block10_sepconv2 (SeparableCon  (None, None, None,   536536     ['block10_sepconv2_act[0][0]']   \n",
            " v2D)                           728)                                                              \n",
            "                                                                                                  \n",
            " block10_sepconv2_bn (BatchNorm  (None, None, None,   2912       ['block10_sepconv2[0][0]']       \n",
            " alization)                     728)                                                              \n",
            "                                                                                                  \n",
            " block10_sepconv3_act (Activati  (None, None, None,   0          ['block10_sepconv2_bn[0][0]']    \n",
            " on)                            728)                                                              \n",
            "                                                                                                  \n",
            " block10_sepconv3 (SeparableCon  (None, None, None,   536536     ['block10_sepconv3_act[0][0]']   \n",
            " v2D)                           728)                                                              \n",
            "                                                                                                  \n",
            " block10_sepconv3_bn (BatchNorm  (None, None, None,   2912       ['block10_sepconv3[0][0]']       \n",
            " alization)                     728)                                                              \n",
            "                                                                                                  \n",
            " add_32 (Add)                   (None, None, None,   0           ['block10_sepconv3_bn[0][0]',    \n",
            "                                728)                              'add_31[0][0]']                 \n",
            "                                                                                                  \n",
            " block11_sepconv1_act (Activati  (None, None, None,   0          ['add_32[0][0]']                 \n",
            " on)                            728)                                                              \n",
            "                                                                                                  \n",
            " block11_sepconv1 (SeparableCon  (None, None, None,   536536     ['block11_sepconv1_act[0][0]']   \n",
            " v2D)                           728)                                                              \n",
            "                                                                                                  \n",
            " block11_sepconv1_bn (BatchNorm  (None, None, None,   2912       ['block11_sepconv1[0][0]']       \n",
            " alization)                     728)                                                              \n",
            "                                                                                                  \n",
            " block11_sepconv2_act (Activati  (None, None, None,   0          ['block11_sepconv1_bn[0][0]']    \n",
            " on)                            728)                                                              \n",
            "                                                                                                  \n",
            " block11_sepconv2 (SeparableCon  (None, None, None,   536536     ['block11_sepconv2_act[0][0]']   \n",
            " v2D)                           728)                                                              \n",
            "                                                                                                  \n",
            " block11_sepconv2_bn (BatchNorm  (None, None, None,   2912       ['block11_sepconv2[0][0]']       \n",
            " alization)                     728)                                                              \n",
            "                                                                                                  \n",
            " block11_sepconv3_act (Activati  (None, None, None,   0          ['block11_sepconv2_bn[0][0]']    \n",
            " on)                            728)                                                              \n",
            "                                                                                                  \n",
            " block11_sepconv3 (SeparableCon  (None, None, None,   536536     ['block11_sepconv3_act[0][0]']   \n",
            " v2D)                           728)                                                              \n",
            "                                                                                                  \n",
            " block11_sepconv3_bn (BatchNorm  (None, None, None,   2912       ['block11_sepconv3[0][0]']       \n",
            " alization)                     728)                                                              \n",
            "                                                                                                  \n",
            " add_33 (Add)                   (None, None, None,   0           ['block11_sepconv3_bn[0][0]',    \n",
            "                                728)                              'add_32[0][0]']                 \n",
            "                                                                                                  \n",
            " block12_sepconv1_act (Activati  (None, None, None,   0          ['add_33[0][0]']                 \n",
            " on)                            728)                                                              \n",
            "                                                                                                  \n",
            " block12_sepconv1 (SeparableCon  (None, None, None,   536536     ['block12_sepconv1_act[0][0]']   \n",
            " v2D)                           728)                                                              \n",
            "                                                                                                  \n",
            " block12_sepconv1_bn (BatchNorm  (None, None, None,   2912       ['block12_sepconv1[0][0]']       \n",
            " alization)                     728)                                                              \n",
            "                                                                                                  \n",
            " block12_sepconv2_act (Activati  (None, None, None,   0          ['block12_sepconv1_bn[0][0]']    \n",
            " on)                            728)                                                              \n",
            "                                                                                                  \n",
            " block12_sepconv2 (SeparableCon  (None, None, None,   536536     ['block12_sepconv2_act[0][0]']   \n",
            " v2D)                           728)                                                              \n",
            "                                                                                                  \n",
            " block12_sepconv2_bn (BatchNorm  (None, None, None,   2912       ['block12_sepconv2[0][0]']       \n",
            " alization)                     728)                                                              \n",
            "                                                                                                  \n",
            " block12_sepconv3_act (Activati  (None, None, None,   0          ['block12_sepconv2_bn[0][0]']    \n",
            " on)                            728)                                                              \n",
            "                                                                                                  \n",
            " block12_sepconv3 (SeparableCon  (None, None, None,   536536     ['block12_sepconv3_act[0][0]']   \n",
            " v2D)                           728)                                                              \n",
            "                                                                                                  \n",
            " block12_sepconv3_bn (BatchNorm  (None, None, None,   2912       ['block12_sepconv3[0][0]']       \n",
            " alization)                     728)                                                              \n",
            "                                                                                                  \n",
            " add_34 (Add)                   (None, None, None,   0           ['block12_sepconv3_bn[0][0]',    \n",
            "                                728)                              'add_33[0][0]']                 \n",
            "                                                                                                  \n",
            " block13_sepconv1_act (Activati  (None, None, None,   0          ['add_34[0][0]']                 \n",
            " on)                            728)                                                              \n",
            "                                                                                                  \n",
            " block13_sepconv1 (SeparableCon  (None, None, None,   536536     ['block13_sepconv1_act[0][0]']   \n",
            " v2D)                           728)                                                              \n",
            "                                                                                                  \n",
            " block13_sepconv1_bn (BatchNorm  (None, None, None,   2912       ['block13_sepconv1[0][0]']       \n",
            " alization)                     728)                                                              \n",
            "                                                                                                  \n",
            " block13_sepconv2_act (Activati  (None, None, None,   0          ['block13_sepconv1_bn[0][0]']    \n",
            " on)                            728)                                                              \n",
            "                                                                                                  \n",
            " block13_sepconv2 (SeparableCon  (None, None, None,   752024     ['block13_sepconv2_act[0][0]']   \n",
            " v2D)                           1024)                                                             \n",
            "                                                                                                  \n",
            " block13_sepconv2_bn (BatchNorm  (None, None, None,   4096       ['block13_sepconv2[0][0]']       \n",
            " alization)                     1024)                                                             \n",
            "                                                                                                  \n",
            " conv2d_11 (Conv2D)             (None, None, None,   745472      ['add_34[0][0]']                 \n",
            "                                1024)                                                             \n",
            "                                                                                                  \n",
            " block13_pool (MaxPooling2D)    (None, None, None,   0           ['block13_sepconv2_bn[0][0]']    \n",
            "                                1024)                                                             \n",
            "                                                                                                  \n",
            " batch_normalization_11 (BatchN  (None, None, None,   4096       ['conv2d_11[0][0]']              \n",
            " ormalization)                  1024)                                                             \n",
            "                                                                                                  \n",
            " add_35 (Add)                   (None, None, None,   0           ['block13_pool[0][0]',           \n",
            "                                1024)                             'batch_normalization_11[0][0]'] \n",
            "                                                                                                  \n",
            " block14_sepconv1 (SeparableCon  (None, None, None,   1582080    ['add_35[0][0]']                 \n",
            " v2D)                           1536)                                                             \n",
            "                                                                                                  \n",
            " block14_sepconv1_bn (BatchNorm  (None, None, None,   6144       ['block14_sepconv1[0][0]']       \n",
            " alization)                     1536)                                                             \n",
            "                                                                                                  \n",
            " block14_sepconv1_act (Activati  (None, None, None,   0          ['block14_sepconv1_bn[0][0]']    \n",
            " on)                            1536)                                                             \n",
            "                                                                                                  \n",
            " block14_sepconv2 (SeparableCon  (None, None, None,   3159552    ['block14_sepconv1_act[0][0]']   \n",
            " v2D)                           2048)                                                             \n",
            "                                                                                                  \n",
            " block14_sepconv2_bn (BatchNorm  (None, None, None,   8192       ['block14_sepconv2[0][0]']       \n",
            " alization)                     2048)                                                             \n",
            "                                                                                                  \n",
            " block14_sepconv2_act (Activati  (None, None, None,   0          ['block14_sepconv2_bn[0][0]']    \n",
            " on)                            2048)                                                             \n",
            "                                                                                                  \n",
            " global_average_pooling2d_2 (Gl  (None, 2048)        0           ['block14_sepconv2_act[0][0]']   \n",
            " obalAveragePooling2D)                                                                            \n",
            "                                                                                                  \n",
            " dropout_3 (Dropout)            (None, 2048)         0           ['global_average_pooling2d_2[0][0\n",
            "                                                                 ]']                              \n",
            "                                                                                                  \n",
            " dense_3 (Dense)                (None, 1)            2049        ['dropout_3[0][0]']              \n",
            "                                                                                                  \n",
            "==================================================================================================\n",
            "Total params: 20,863,529\n",
            "Trainable params: 20,809,001\n",
            "Non-trainable params: 54,528\n",
            "__________________________________________________________________________________________________\n"
          ]
        }
      ]
    },
    {
      "cell_type": "markdown",
      "source": [
        "**Testing**"
      ],
      "metadata": {
        "id": "X5FyebOfNI71"
      }
    },
    {
      "cell_type": "code",
      "source": [
        "#Evaluate on the test data\n",
        "test_loss, test_score = model.evaluate(test_data)\n",
        "print(\"Loss on test set: \", test_loss)\n",
        "print(\"Accuracy on test set: \", test_score)"
      ],
      "metadata": {
        "colab": {
          "base_uri": "https://localhost:8080/"
        },
        "id": "wA6GR6wFxh2E",
        "outputId": "9ed6c0f0-a754-4a5e-8ed4-5034226b5f46"
      },
      "execution_count": null,
      "outputs": [
        {
          "output_type": "stream",
          "name": "stdout",
          "text": [
            "7/7 [==============================] - 3s 338ms/step - loss: 0.7865 - accuracy: 0.5000\n",
            "Loss on test set:  0.7864599227905273\n",
            "Accuracy on test set:  0.5\n"
          ]
        }
      ]
    },
    {
      "cell_type": "code",
      "source": [
        "preds = model.predict(test_data) # Predicting on test data"
      ],
      "metadata": {
        "id": "8opybsraxoFa"
      },
      "execution_count": null,
      "outputs": []
    },
    {
      "cell_type": "code",
      "source": [
        "test_data_labels = df_test.Intersection.map(dict(yes=1, no=0)) # Label encoding"
      ],
      "metadata": {
        "id": "t18-rjKPylCA"
      },
      "execution_count": null,
      "outputs": []
    },
    {
      "cell_type": "code",
      "source": [
        "test_data_labels"
      ],
      "metadata": {
        "colab": {
          "base_uri": "https://localhost:8080/"
        },
        "id": "loPidULezC5e",
        "outputId": "7fc037b6-6069-4012-8291-6f1848c5ad5c"
      },
      "execution_count": null,
      "outputs": [
        {
          "output_type": "execute_result",
          "data": {
            "text/plain": [
              "291     1\n",
              "1216    1\n",
              "396     0\n",
              "1198    0\n",
              "856     1\n",
              "       ..\n",
              "22      1\n",
              "1088    0\n",
              "10      0\n",
              "540     0\n",
              "214     1\n",
              "Name: Intersection, Length: 217, dtype: int64"
            ]
          },
          "metadata": {},
          "execution_count": 59
        }
      ]
    },
    {
      "cell_type": "code",
      "source": [
        "# Classification report \n",
        "from sklearn.metrics import accuracy_score,classification_report, roc_curve, confusion_matrix\n",
        "\n",
        "acc = accuracy_score(test_data_labels, np.round(preds))*100\n",
        "print(\"Test data accuracy : \"+str(acc))\n",
        "print(\"Classification report\")\n",
        "print(classification_report(test_data_labels ,np.round(preds)))"
      ],
      "metadata": {
        "colab": {
          "base_uri": "https://localhost:8080/"
        },
        "id": "AALN_DvmyKkA",
        "outputId": "91ba55c8-6474-49e9-9505-ec07173a8ecd"
      },
      "execution_count": null,
      "outputs": [
        {
          "output_type": "stream",
          "name": "stdout",
          "text": [
            "Test data accuracy : 71.42857142857143\n",
            "Classification report\n",
            "              precision    recall  f1-score   support\n",
            "\n",
            "           0       0.72      0.54      0.62        93\n",
            "           1       0.71      0.85      0.77       124\n",
            "\n",
            "    accuracy                           0.71       217\n",
            "   macro avg       0.72      0.69      0.69       217\n",
            "weighted avg       0.72      0.71      0.71       217\n",
            "\n"
          ]
        }
      ]
    },
    {
      "cell_type": "markdown",
      "source": [
        "We got the Test Accuracy of 71.42%"
      ],
      "metadata": {
        "id": "PHRCNAzSNh4C"
      }
    },
    {
      "cell_type": "code",
      "source": [
        "#Plot the confusion matrix\n",
        "import seaborn as sns\n",
        "conf_matrix = confusion_matrix(test_data_labels, np.round(preds))\n",
        "plt.figure(figsize=(12.8,6))\n",
        "sns.heatmap(conf_matrix, \n",
        "            annot=True,\n",
        "            xticklabels=['Yes', 'No'], \n",
        "            yticklabels=['Yes', 'No'],\n",
        "            cmap=\"Blues\",\n",
        "            fmt='g')\n",
        "plt.ylabel('Actual')\n",
        "plt.xlabel('Predicted')\n",
        "plt.title('Confusion matrix')\n",
        "plt.show()"
      ],
      "metadata": {
        "colab": {
          "base_uri": "https://localhost:8080/",
          "height": 404
        },
        "id": "9C6Gpgk6yOUQ",
        "outputId": "c9657e27-b35d-4b83-dc5d-6c16721c1e05"
      },
      "execution_count": null,
      "outputs": [
        {
          "output_type": "display_data",
          "data": {
            "text/plain": [
              "<Figure size 921.6x432 with 2 Axes>"
            ],
            "image/png": "[encoded data removed]"
          },
          "metadata": {
            "needs_background": "light"
          }
        }
      ]
    },
    {
      "cell_type": "markdown",
      "source": [
        "After training our model, we got following"
      ],
      "metadata": {
        "id": "RRhNp_8ZNp45"
      }
    },
    {
      "cell_type": "markdown",
      "source": [
        "**Training Accuracy is 76%**"
      ],
      "metadata": {
        "id": "JuStazFsNuaa"
      }
    },
    {
      "cell_type": "markdown",
      "source": [
        "**Validation Accuracy is 75%**"
      ],
      "metadata": {
        "id": "9k2y9dOFOOc6"
      }
    },
    {
      "cell_type": "markdown",
      "source": [
        "**Test Accuracy is 71%**"
      ],
      "metadata": {
        "id": "YtV53rAPOSbf"
      }
    },
    {
      "cell_type": "markdown",
      "source": [
        "Its a Good Score lets try on the other model also"
      ],
      "metadata": {
        "id": "-vdowHRbOkWx"
      }
    },
    {
      "cell_type": "markdown",
      "source": [
        "**Implimenting VVG16**"
      ],
      "metadata": {
        "id": "XdQiReg3Oe5b"
      }
    },
    {
      "cell_type": "markdown",
      "source": [
        "Creating our data as per the VVG16 requirements"
      ],
      "metadata": {
        "id": "HcLiIJYtOt8e"
      }
    },
    {
      "cell_type": "code",
      "source": [
        "train_data = train_gen.flow_from_dataframe(dataframe = df_train, x_col='file_name',\n",
        "                                          directory = train_folder,y_col = 'Intersection',class_mode=\"binary\",\n",
        "                                          batch_size = 32, shuffle = True, \n",
        "                                          target_size = (224, 224))\n",
        "\n",
        "val_data = train_gen.flow_from_dataframe(dataframe = df_val, \n",
        "                                          directory = train_folder, x_col = 'file_name', \n",
        "                                          y_col = 'Intersection',\n",
        "                                          batch_size = 32, shuffle = True, \n",
        "                                          class_mode=\"binary\",target_size = (224, 224))\n",
        "\n",
        "\n",
        "test_data = test_gen.flow_from_dataframe(dataframe = df_test, \n",
        "                                        directory = train_folder, x_col = 'file_name', \n",
        "                                        y_col = 'Intersection',\n",
        "                                        batch_size = 32, shuffle = False, \n",
        "                                        target_size = (224, 2))"
      ],
      "metadata": {
        "colab": {
          "base_uri": "https://localhost:8080/"
        },
        "id": "cPC_35OR6CQ2",
        "outputId": "39a3b13f-8c6c-48e4-e7b5-e17c2249d13f"
      },
      "execution_count": 20,
      "outputs": [
        {
          "output_type": "stream",
          "name": "stdout",
          "text": [
            "Found 1009 validated image filenames belonging to 2 classes.\n",
            "Found 216 validated image filenames belonging to 2 classes.\n",
            "Found 217 validated image filenames belonging to 2 classes.\n"
          ]
        }
      ]
    },
    {
      "cell_type": "code",
      "source": [
        "from tensorflow.keras.applications.vgg16 import VGG16 #importing VVG16\n",
        "from tensorflow.keras.applications.vgg16 import preprocess_input"
      ],
      "metadata": {
        "id": "FDUYO_UB03vw"
      },
      "execution_count": 18,
      "outputs": []
    },
    {
      "cell_type": "code",
      "source": [
        "base_model = VGG16(weights=\"imagenet\", include_top=False) #downloading the model"
      ],
      "metadata": {
        "id": "_N8JT-de2ZCe",
        "colab": {
          "base_uri": "https://localhost:8080/"
        },
        "outputId": "acaec5f4-6356-4520-e95c-6ec3998a6355"
      },
      "execution_count": 26,
      "outputs": [
        {
          "output_type": "stream",
          "name": "stdout",
          "text": [
            "Downloading data from https://storage.googleapis.com/tensorflow/keras-applications/vgg16/vgg16_weights_tf_dim_ordering_tf_kernels_notop.h5\n",
            "58892288/58889256 [==============================] - 1s 0us/step\n",
            "58900480/58889256 [==============================] - 1s 0us/step\n"
          ]
        }
      ]
    },
    {
      "cell_type": "code",
      "source": [
        "base_model.trainable = False ## Not trainable weights"
      ],
      "metadata": {
        "id": "sCxSVWgt7dSY"
      },
      "execution_count": 29,
      "outputs": []
    },
    {
      "cell_type": "code",
      "source": [
        "base_model.summary() #seeing the summary"
      ],
      "metadata": {
        "colab": {
          "base_uri": "https://localhost:8080/"
        },
        "id": "dFBL2dpS7v4W",
        "outputId": "b814af91-d28a-40a9-cf03-a1f5e25c8b47"
      },
      "execution_count": 30,
      "outputs": [
        {
          "output_type": "stream",
          "name": "stdout",
          "text": [
            "Model: \"vgg16\"\n",
            "_________________________________________________________________\n",
            " Layer (type)                Output Shape              Param #   \n",
            "=================================================================\n",
            " input_2 (InputLayer)        [(None, None, None, 3)]   0         \n",
            "                                                                 \n",
            " block1_conv1 (Conv2D)       (None, None, None, 64)    1792      \n",
            "                                                                 \n",
            " block1_conv2 (Conv2D)       (None, None, None, 64)    36928     \n",
            "                                                                 \n",
            " block1_pool (MaxPooling2D)  (None, None, None, 64)    0         \n",
            "                                                                 \n",
            " block2_conv1 (Conv2D)       (None, None, None, 128)   73856     \n",
            "                                                                 \n",
            " block2_conv2 (Conv2D)       (None, None, None, 128)   147584    \n",
            "                                                                 \n",
            " block2_pool (MaxPooling2D)  (None, None, None, 128)   0         \n",
            "                                                                 \n",
            " block3_conv1 (Conv2D)       (None, None, None, 256)   295168    \n",
            "                                                                 \n",
            " block3_conv2 (Conv2D)       (None, None, None, 256)   590080    \n",
            "                                                                 \n",
            " block3_conv3 (Conv2D)       (None, None, None, 256)   590080    \n",
            "                                                                 \n",
            " block3_pool (MaxPooling2D)  (None, None, None, 256)   0         \n",
            "                                                                 \n",
            " block4_conv1 (Conv2D)       (None, None, None, 512)   1180160   \n",
            "                                                                 \n",
            " block4_conv2 (Conv2D)       (None, None, None, 512)   2359808   \n",
            "                                                                 \n",
            " block4_conv3 (Conv2D)       (None, None, None, 512)   2359808   \n",
            "                                                                 \n",
            " block4_pool (MaxPooling2D)  (None, None, None, 512)   0         \n",
            "                                                                 \n",
            " block5_conv1 (Conv2D)       (None, None, None, 512)   2359808   \n",
            "                                                                 \n",
            " block5_conv2 (Conv2D)       (None, None, None, 512)   2359808   \n",
            "                                                                 \n",
            " block5_conv3 (Conv2D)       (None, None, None, 512)   2359808   \n",
            "                                                                 \n",
            " block5_pool (MaxPooling2D)  (None, None, None, 512)   0         \n",
            "                                                                 \n",
            "=================================================================\n",
            "Total params: 14,714,688\n",
            "Trainable params: 0\n",
            "Non-trainable params: 14,714,688\n",
            "_________________________________________________________________\n"
          ]
        }
      ]
    },
    {
      "cell_type": "code",
      "source": [
        "x = base_model.output\n",
        "\n",
        "# add a global spatial average pooling layer\n",
        "x = GlobalAveragePooling2D()(x)\n",
        "\n",
        "#Dropout Layer\n",
        "x = Dropout(0.2)(x) # Regularize with dropout\n",
        "\n",
        "# and a logistic layer\n",
        "predictions = Dense(1, activation=\"sigmoid\")(x)\n",
        "\n",
        "model = Model(inputs=base_model.input, outputs=predictions)"
      ],
      "metadata": {
        "id": "ke3PqJIW8B7u"
      },
      "execution_count": 38,
      "outputs": []
    },
    {
      "cell_type": "code",
      "source": [
        "#Follow ChexNeXt Paper\n",
        "base_learning_rate = 0.0001\n",
        "\n",
        "#Compile model\n",
        "model.compile(optimizer=Adam(lr= base_learning_rate), loss= \"binary_crossentropy\", metrics = ['accuracy'])"
      ],
      "metadata": {
        "colab": {
          "base_uri": "https://localhost:8080/"
        },
        "id": "evG7IX8D8TP5",
        "outputId": "5a86620a-5229-4340-e3b4-8d71c8096fcf"
      },
      "execution_count": 39,
      "outputs": [
        {
          "output_type": "stream",
          "name": "stderr",
          "text": [
            "/usr/local/lib/python3.7/dist-packages/keras/optimizer_v2/adam.py:105: UserWarning: The `lr` argument is deprecated, use `learning_rate` instead.\n",
            "  super(Adam, self).__init__(name, **kwargs)\n"
          ]
        }
      ]
    },
    {
      "cell_type": "code",
      "source": [
        "#epochs\n",
        "initial_epochs = 20\n",
        "\n",
        "# Callbacks\n",
        "#Save best model\n",
        "ckpt_filename= \"/content/drive/MyDrive/DataSets/DeepLearning/detect_trees_near_electric_wires/VVG16_base_model_weights1.hdf5\"\n",
        "checkpoint = ModelCheckpoint(filepath=ckpt_filename, save_best_only=True, save_weights_only=True, verbose = 1)\n",
        "lr_reduce = ReduceLROnPlateau(monitor='val_loss', factor=0.1, patience=2, verbose=1)\n",
        "early_stop = EarlyStopping(monitor='val_loss', min_delta=0.0001, patience=3, mode='min', verbose = 1)"
      ],
      "metadata": {
        "id": "yj43ypzq99lA"
      },
      "execution_count": 40,
      "outputs": []
    },
    {
      "cell_type": "code",
      "source": [
        "# Fitting the model\n",
        "history = model.fit(train_data,\n",
        "                    epochs=initial_epochs,\n",
        "                    validation_data=val_data,\n",
        "                    callbacks=[checkpoint, early_stop, lr_reduce]\n",
        "                    )"
      ],
      "metadata": {
        "colab": {
          "base_uri": "https://localhost:8080/"
        },
        "id": "5QRPd7QY-GrQ",
        "outputId": "2f64e926-473b-43d1-c52a-91d38daf1489"
      },
      "execution_count": 41,
      "outputs": [
        {
          "output_type": "stream",
          "name": "stdout",
          "text": [
            "Epoch 1/20\n",
            "32/32 [==============================] - ETA: 0s - loss: 0.6948 - accuracy: 0.5273 \n",
            "Epoch 1: val_loss improved from inf to 0.68579, saving model to /content/drive/MyDrive/DataSets/DeepLearning/detect_trees_near_electric_wires/VVG16_base_model_weights1.hdf5\n",
            "32/32 [==============================] - 665s 20s/step - loss: 0.6948 - accuracy: 0.5273 - val_loss: 0.6858 - val_accuracy: 0.5602 - lr: 1.0000e-04\n",
            "Epoch 2/20\n",
            "32/32 [==============================] - ETA: 0s - loss: 0.7029 - accuracy: 0.5213\n",
            "Epoch 2: val_loss improved from 0.68579 to 0.68121, saving model to /content/drive/MyDrive/DataSets/DeepLearning/detect_trees_near_electric_wires/VVG16_base_model_weights1.hdf5\n",
            "32/32 [==============================] - 32s 996ms/step - loss: 0.7029 - accuracy: 0.5213 - val_loss: 0.6812 - val_accuracy: 0.5880 - lr: 1.0000e-04\n",
            "Epoch 3/20\n",
            "32/32 [==============================] - ETA: 0s - loss: 0.6945 - accuracy: 0.5471\n",
            "Epoch 3: val_loss did not improve from 0.68121\n",
            "32/32 [==============================] - 30s 936ms/step - loss: 0.6945 - accuracy: 0.5471 - val_loss: 0.6899 - val_accuracy: 0.5787 - lr: 1.0000e-04\n",
            "Epoch 4/20\n",
            "32/32 [==============================] - ETA: 0s - loss: 0.7018 - accuracy: 0.5421\n",
            "Epoch 4: val_loss did not improve from 0.68121\n",
            "\n",
            "Epoch 4: ReduceLROnPlateau reducing learning rate to 9.999999747378752e-06.\n",
            "32/32 [==============================] - 30s 943ms/step - loss: 0.7018 - accuracy: 0.5421 - val_loss: 0.6818 - val_accuracy: 0.5787 - lr: 1.0000e-04\n",
            "Epoch 5/20\n",
            "32/32 [==============================] - ETA: 0s - loss: 0.6958 - accuracy: 0.5510\n",
            "Epoch 5: val_loss did not improve from 0.68121\n",
            "32/32 [==============================] - 29s 918ms/step - loss: 0.6958 - accuracy: 0.5510 - val_loss: 0.6873 - val_accuracy: 0.5741 - lr: 1.0000e-05\n",
            "Epoch 5: early stopping\n"
          ]
        }
      ]
    },
    {
      "cell_type": "markdown",
      "source": [
        "This model performed very poor. this may be due to the fact that this model only 16 Conv layers. "
      ],
      "metadata": {
        "id": "MxEy8kWsO_Zs"
      }
    },
    {
      "cell_type": "code",
      "source": [
        "acc = history.history['accuracy']\n",
        "val_acc = history.history['val_accuracy']\n",
        "\n",
        "loss = history.history['loss']\n",
        "val_loss = history.history['val_loss']\n",
        "\n",
        "plt.figure(figsize=(8, 8))\n",
        "plt.subplot(2, 1, 1)\n",
        "plt.plot(acc, label='Training Accuracy')\n",
        "plt.plot(val_acc, label='Validation Accuracy')\n",
        "plt.legend(loc='lower right')\n",
        "plt.ylabel('Accuracy')\n",
        "plt.ylim([min(plt.ylim()),1])\n",
        "plt.title('Training and Validation Accuracy')\n",
        "\n",
        "plt.subplot(2, 1, 2)\n",
        "plt.plot(loss, label='Training Loss')\n",
        "plt.plot(val_loss, label='Validation Loss')\n",
        "plt.legend(loc='upper right')\n",
        "plt.ylabel('Cross Entropy')\n",
        "plt.ylim([min(plt.ylim()),2])\n",
        "plt.title('Training and Validation Loss')\n",
        "plt.xlabel('epoch')\n",
        "plt.show()"
      ],
      "metadata": {
        "colab": {
          "base_uri": "https://localhost:8080/",
          "height": 513
        },
        "id": "vf7vFsAm-Nem",
        "outputId": "76fb008a-ba29-4dea-bb1e-3e08134df604"
      },
      "execution_count": 42,
      "outputs": [
        {
          "output_type": "display_data",
          "data": {
            "text/plain": [
              "<Figure size 576x576 with 2 Axes>"
            ],
            "image/png": "[encoded data removed]"
          },
          "metadata": {
            "needs_background": "light"
          }
        }
      ]
    },
    {
      "cell_type": "code",
      "source": [
        "#Load the best model during initial training\n",
        "model.load_weights(ckpt_filename)"
      ],
      "metadata": {
        "id": "3GuVLPJsBY0x"
      },
      "execution_count": 43,
      "outputs": []
    },
    {
      "cell_type": "code",
      "source": [
        "base_model.trainable = True"
      ],
      "metadata": {
        "id": "3n_rXgxNBiD0"
      },
      "execution_count": 44,
      "outputs": []
    },
    {
      "cell_type": "code",
      "source": [
        "model.summary()"
      ],
      "metadata": {
        "colab": {
          "base_uri": "https://localhost:8080/"
        },
        "id": "Vj0-AEr6BnOr",
        "outputId": "e6e16185-aecb-47ec-8e9f-103efae31aec"
      },
      "execution_count": 45,
      "outputs": [
        {
          "output_type": "stream",
          "name": "stdout",
          "text": [
            "Model: \"model\"\n",
            "_________________________________________________________________\n",
            " Layer (type)                Output Shape              Param #   \n",
            "=================================================================\n",
            " input_2 (InputLayer)        [(None, None, None, 3)]   0         \n",
            "                                                                 \n",
            " block1_conv1 (Conv2D)       (None, None, None, 64)    1792      \n",
            "                                                                 \n",
            " block1_conv2 (Conv2D)       (None, None, None, 64)    36928     \n",
            "                                                                 \n",
            " block1_pool (MaxPooling2D)  (None, None, None, 64)    0         \n",
            "                                                                 \n",
            " block2_conv1 (Conv2D)       (None, None, None, 128)   73856     \n",
            "                                                                 \n",
            " block2_conv2 (Conv2D)       (None, None, None, 128)   147584    \n",
            "                                                                 \n",
            " block2_pool (MaxPooling2D)  (None, None, None, 128)   0         \n",
            "                                                                 \n",
            " block3_conv1 (Conv2D)       (None, None, None, 256)   295168    \n",
            "                                                                 \n",
            " block3_conv2 (Conv2D)       (None, None, None, 256)   590080    \n",
            "                                                                 \n",
            " block3_conv3 (Conv2D)       (None, None, None, 256)   590080    \n",
            "                                                                 \n",
            " block3_pool (MaxPooling2D)  (None, None, None, 256)   0         \n",
            "                                                                 \n",
            " block4_conv1 (Conv2D)       (None, None, None, 512)   1180160   \n",
            "                                                                 \n",
            " block4_conv2 (Conv2D)       (None, None, None, 512)   2359808   \n",
            "                                                                 \n",
            " block4_conv3 (Conv2D)       (None, None, None, 512)   2359808   \n",
            "                                                                 \n",
            " block4_pool (MaxPooling2D)  (None, None, None, 512)   0         \n",
            "                                                                 \n",
            " block5_conv1 (Conv2D)       (None, None, None, 512)   2359808   \n",
            "                                                                 \n",
            " block5_conv2 (Conv2D)       (None, None, None, 512)   2359808   \n",
            "                                                                 \n",
            " block5_conv3 (Conv2D)       (None, None, None, 512)   2359808   \n",
            "                                                                 \n",
            " block5_pool (MaxPooling2D)  (None, None, None, 512)   0         \n",
            "                                                                 \n",
            " global_average_pooling2d (G  (None, 512)              0         \n",
            " lobalAveragePooling2D)                                          \n",
            "                                                                 \n",
            " dropout (Dropout)           (None, 512)               0         \n",
            "                                                                 \n",
            " dense_12 (Dense)            (None, 1)                 513       \n",
            "                                                                 \n",
            "=================================================================\n",
            "Total params: 14,715,201\n",
            "Trainable params: 14,715,201\n",
            "Non-trainable params: 0\n",
            "_________________________________________________________________\n"
          ]
        }
      ]
    },
    {
      "cell_type": "code",
      "source": [
        "#compile model\n",
        "model.compile(optimizer= Adam(lr=base_learning_rate/10), loss= \"binary_crossentropy\", metrics = ['accuracy'])\n",
        "\n",
        "# Callbacks\n",
        "final_ckpt_filename= \"/content/drive/MyDrive/DataSets/DeepLearning/detect_trees_near_electric_wires/VGG16_base_model_weight_best_model.hdf5\"\n",
        "checkpoint = ModelCheckpoint(filepath=final_ckpt_filename, save_best_only=True, save_weights_only=True, verbose = 1)\n",
        "\n",
        "lr_reduce = ReduceLROnPlateau(monitor='val_loss', factor=0.1, patience=4, verbose=1)\n",
        "early_stop = EarlyStopping(monitor='val_loss', min_delta=0.0001, patience=6, mode='min', verbose = 1)"
      ],
      "metadata": {
        "colab": {
          "base_uri": "https://localhost:8080/"
        },
        "id": "czFBIy_4Btg0",
        "outputId": "019fda4c-24d4-4290-8319-cda302c45af8"
      },
      "execution_count": 46,
      "outputs": [
        {
          "output_type": "stream",
          "name": "stderr",
          "text": [
            "/usr/local/lib/python3.7/dist-packages/keras/optimizer_v2/adam.py:105: UserWarning: The `lr` argument is deprecated, use `learning_rate` instead.\n",
            "  super(Adam, self).__init__(name, **kwargs)\n"
          ]
        }
      ]
    },
    {
      "cell_type": "code",
      "source": [
        "# Fitting the model\n",
        "history = model.fit(train_data,\n",
        "                    epochs=initial_epochs,\n",
        "                    validation_data=val_data,\n",
        "                    callbacks=[checkpoint, early_stop, lr_reduce]\n",
        "                    )"
      ],
      "metadata": {
        "colab": {
          "base_uri": "https://localhost:8080/"
        },
        "id": "QomCojB8B793",
        "outputId": "39fe10b3-b38b-4fe8-8f22-b4539407e9b2"
      },
      "execution_count": 47,
      "outputs": [
        {
          "output_type": "stream",
          "name": "stdout",
          "text": [
            "Epoch 1/20\n",
            "32/32 [==============================] - ETA: 0s - loss: 0.6867 - accuracy: 0.5580\n",
            "Epoch 1: val_loss improved from inf to 0.65596, saving model to /content/drive/MyDrive/DataSets/DeepLearning/detect_trees_near_electric_wires/VGG16_base_model_weight_best_model.hdf5\n",
            "32/32 [==============================] - 48s 1s/step - loss: 0.6867 - accuracy: 0.5580 - val_loss: 0.6560 - val_accuracy: 0.5926 - lr: 1.0000e-05\n",
            "Epoch 2/20\n",
            "32/32 [==============================] - ETA: 0s - loss: 0.6705 - accuracy: 0.5917\n",
            "Epoch 2: val_loss improved from 0.65596 to 0.64420, saving model to /content/drive/MyDrive/DataSets/DeepLearning/detect_trees_near_electric_wires/VGG16_base_model_weight_best_model.hdf5\n",
            "32/32 [==============================] - 39s 1s/step - loss: 0.6705 - accuracy: 0.5917 - val_loss: 0.6442 - val_accuracy: 0.6574 - lr: 1.0000e-05\n",
            "Epoch 3/20\n",
            "32/32 [==============================] - ETA: 0s - loss: 0.6447 - accuracy: 0.6482\n",
            "Epoch 3: val_loss improved from 0.64420 to 0.60604, saving model to /content/drive/MyDrive/DataSets/DeepLearning/detect_trees_near_electric_wires/VGG16_base_model_weight_best_model.hdf5\n",
            "32/32 [==============================] - 38s 1s/step - loss: 0.6447 - accuracy: 0.6482 - val_loss: 0.6060 - val_accuracy: 0.7037 - lr: 1.0000e-05\n",
            "Epoch 4/20\n",
            "32/32 [==============================] - ETA: 0s - loss: 0.6236 - accuracy: 0.6492\n",
            "Epoch 4: val_loss did not improve from 0.60604\n",
            "32/32 [==============================] - 37s 1s/step - loss: 0.6236 - accuracy: 0.6492 - val_loss: 0.6241 - val_accuracy: 0.6250 - lr: 1.0000e-05\n",
            "Epoch 5/20\n",
            "32/32 [==============================] - ETA: 0s - loss: 0.6319 - accuracy: 0.6432\n",
            "Epoch 5: val_loss did not improve from 0.60604\n",
            "32/32 [==============================] - 37s 1s/step - loss: 0.6319 - accuracy: 0.6432 - val_loss: 0.6165 - val_accuracy: 0.7361 - lr: 1.0000e-05\n",
            "Epoch 6/20\n",
            "32/32 [==============================] - ETA: 0s - loss: 0.6063 - accuracy: 0.6690\n",
            "Epoch 6: val_loss improved from 0.60604 to 0.56442, saving model to /content/drive/MyDrive/DataSets/DeepLearning/detect_trees_near_electric_wires/VGG16_base_model_weight_best_model.hdf5\n",
            "32/32 [==============================] - 37s 1s/step - loss: 0.6063 - accuracy: 0.6690 - val_loss: 0.5644 - val_accuracy: 0.6991 - lr: 1.0000e-05\n",
            "Epoch 7/20\n",
            "32/32 [==============================] - ETA: 0s - loss: 0.5777 - accuracy: 0.6977\n",
            "Epoch 7: val_loss improved from 0.56442 to 0.55151, saving model to /content/drive/MyDrive/DataSets/DeepLearning/detect_trees_near_electric_wires/VGG16_base_model_weight_best_model.hdf5\n",
            "32/32 [==============================] - 39s 1s/step - loss: 0.5777 - accuracy: 0.6977 - val_loss: 0.5515 - val_accuracy: 0.7083 - lr: 1.0000e-05\n",
            "Epoch 8/20\n",
            "32/32 [==============================] - ETA: 0s - loss: 0.5562 - accuracy: 0.7136\n",
            "Epoch 8: val_loss improved from 0.55151 to 0.53428, saving model to /content/drive/MyDrive/DataSets/DeepLearning/detect_trees_near_electric_wires/VGG16_base_model_weight_best_model.hdf5\n",
            "32/32 [==============================] - 37s 1s/step - loss: 0.5562 - accuracy: 0.7136 - val_loss: 0.5343 - val_accuracy: 0.7500 - lr: 1.0000e-05\n",
            "Epoch 9/20\n",
            "32/32 [==============================] - ETA: 0s - loss: 0.5388 - accuracy: 0.7175\n",
            "Epoch 9: val_loss did not improve from 0.53428\n",
            "32/32 [==============================] - 37s 1s/step - loss: 0.5388 - accuracy: 0.7175 - val_loss: 0.5535 - val_accuracy: 0.6898 - lr: 1.0000e-05\n",
            "Epoch 10/20\n",
            "32/32 [==============================] - ETA: 0s - loss: 0.5229 - accuracy: 0.7384\n",
            "Epoch 10: val_loss improved from 0.53428 to 0.53297, saving model to /content/drive/MyDrive/DataSets/DeepLearning/detect_trees_near_electric_wires/VGG16_base_model_weight_best_model.hdf5\n",
            "32/32 [==============================] - 38s 1s/step - loss: 0.5229 - accuracy: 0.7384 - val_loss: 0.5330 - val_accuracy: 0.7176 - lr: 1.0000e-05\n",
            "Epoch 11/20\n",
            "32/32 [==============================] - ETA: 0s - loss: 0.5061 - accuracy: 0.7463\n",
            "Epoch 11: val_loss improved from 0.53297 to 0.52760, saving model to /content/drive/MyDrive/DataSets/DeepLearning/detect_trees_near_electric_wires/VGG16_base_model_weight_best_model.hdf5\n",
            "32/32 [==============================] - 38s 1s/step - loss: 0.5061 - accuracy: 0.7463 - val_loss: 0.5276 - val_accuracy: 0.7315 - lr: 1.0000e-05\n",
            "Epoch 12/20\n",
            "32/32 [==============================] - ETA: 0s - loss: 0.5267 - accuracy: 0.7275\n",
            "Epoch 12: val_loss did not improve from 0.52760\n",
            "32/32 [==============================] - 40s 1s/step - loss: 0.5267 - accuracy: 0.7275 - val_loss: 0.5531 - val_accuracy: 0.7639 - lr: 1.0000e-05\n",
            "Epoch 13/20\n",
            "32/32 [==============================] - ETA: 0s - loss: 0.4947 - accuracy: 0.7721\n",
            "Epoch 13: val_loss did not improve from 0.52760\n",
            "32/32 [==============================] - 36s 1s/step - loss: 0.4947 - accuracy: 0.7721 - val_loss: 0.6431 - val_accuracy: 0.6852 - lr: 1.0000e-05\n",
            "Epoch 14/20\n",
            "32/32 [==============================] - ETA: 0s - loss: 0.5063 - accuracy: 0.7552\n",
            "Epoch 14: val_loss improved from 0.52760 to 0.49828, saving model to /content/drive/MyDrive/DataSets/DeepLearning/detect_trees_near_electric_wires/VGG16_base_model_weight_best_model.hdf5\n",
            "32/32 [==============================] - 37s 1s/step - loss: 0.5063 - accuracy: 0.7552 - val_loss: 0.4983 - val_accuracy: 0.7407 - lr: 1.0000e-05\n",
            "Epoch 15/20\n",
            "32/32 [==============================] - ETA: 0s - loss: 0.4744 - accuracy: 0.7671\n",
            "Epoch 15: val_loss did not improve from 0.49828\n",
            "32/32 [==============================] - 37s 1s/step - loss: 0.4744 - accuracy: 0.7671 - val_loss: 0.5346 - val_accuracy: 0.7407 - lr: 1.0000e-05\n",
            "Epoch 16/20\n",
            "32/32 [==============================] - ETA: 0s - loss: 0.4439 - accuracy: 0.7919\n",
            "Epoch 16: val_loss did not improve from 0.49828\n",
            "32/32 [==============================] - 36s 1s/step - loss: 0.4439 - accuracy: 0.7919 - val_loss: 0.5356 - val_accuracy: 0.6944 - lr: 1.0000e-05\n",
            "Epoch 17/20\n",
            "32/32 [==============================] - ETA: 0s - loss: 0.4177 - accuracy: 0.7948\n",
            "Epoch 17: val_loss did not improve from 0.49828\n",
            "32/32 [==============================] - 37s 1s/step - loss: 0.4177 - accuracy: 0.7948 - val_loss: 0.6425 - val_accuracy: 0.7037 - lr: 1.0000e-05\n",
            "Epoch 18/20\n",
            "32/32 [==============================] - ETA: 0s - loss: 0.4019 - accuracy: 0.8186\n",
            "Epoch 18: val_loss did not improve from 0.49828\n",
            "\n",
            "Epoch 18: ReduceLROnPlateau reducing learning rate to 9.999999747378752e-07.\n",
            "32/32 [==============================] - 37s 1s/step - loss: 0.4019 - accuracy: 0.8186 - val_loss: 0.5379 - val_accuracy: 0.7361 - lr: 1.0000e-05\n",
            "Epoch 19/20\n",
            "32/32 [==============================] - ETA: 0s - loss: 0.3622 - accuracy: 0.8404\n",
            "Epoch 19: val_loss did not improve from 0.49828\n",
            "32/32 [==============================] - 37s 1s/step - loss: 0.3622 - accuracy: 0.8404 - val_loss: 0.5264 - val_accuracy: 0.7407 - lr: 1.0000e-06\n",
            "Epoch 20/20\n",
            "32/32 [==============================] - ETA: 0s - loss: 0.3535 - accuracy: 0.8414\n",
            "Epoch 20: val_loss did not improve from 0.49828\n",
            "32/32 [==============================] - 36s 1s/step - loss: 0.3535 - accuracy: 0.8414 - val_loss: 0.5606 - val_accuracy: 0.7639 - lr: 1.0000e-06\n",
            "Epoch 20: early stopping\n"
          ]
        }
      ]
    },
    {
      "cell_type": "markdown",
      "source": [
        "After Hyper perameter Tuning, our model is able to give 76% accuracy"
      ],
      "metadata": {
        "id": "2t31PFhfPcwe"
      }
    },
    {
      "cell_type": "code",
      "source": [
        " acc = history.history['accuracy']\n",
        "val_acc = history.history['val_accuracy']\n",
        "\n",
        "loss = history.history['loss']\n",
        "val_loss = history.history['val_loss']\n",
        "\n",
        "plt.figure(figsize=(8, 8))\n",
        "plt.subplot(2, 1, 1)\n",
        "plt.plot(acc, label='Training Accuracy')\n",
        "plt.plot(val_acc, label='Validation Accuracy')\n",
        "plt.legend(loc='lower right')\n",
        "plt.ylabel('Accuracy')\n",
        "plt.ylim([min(plt.ylim()),1])\n",
        "plt.title('Training and Validation Accuracy')\n",
        "\n",
        "plt.subplot(2, 1, 2)\n",
        "plt.plot(loss, label='Training Loss')\n",
        "plt.plot(val_loss, label='Validation Loss')\n",
        "plt.legend(loc='upper right')\n",
        "plt.ylabel('Cross Entropy')\n",
        "plt.ylim([min(plt.ylim()),2])\n",
        "plt.title('Training and Validation Loss')\n",
        "plt.xlabel('epoch')\n",
        "plt.show()"
      ],
      "metadata": {
        "colab": {
          "base_uri": "https://localhost:8080/",
          "height": 513
        },
        "id": "3zrXjy21CA_0",
        "outputId": "e8448be4-3562-4d20-d596-208dcecaaa33"
      },
      "execution_count": 48,
      "outputs": [
        {
          "output_type": "display_data",
          "data": {
            "text/plain": [
              "<Figure size 576x576 with 2 Axes>"
            ],
            "image/png": "[encoded data removed]"
          },
          "metadata": {
            "needs_background": "light"
          }
        }
      ]
    },
    {
      "cell_type": "code",
      "source": [
        "#Load the best model\n",
        "model.load_weights(final_ckpt_filename)"
      ],
      "metadata": {
        "id": "2dEhMM-nFHEB"
      },
      "execution_count": 49,
      "outputs": []
    },
    {
      "cell_type": "code",
      "source": [
        "model.summary()"
      ],
      "metadata": {
        "colab": {
          "base_uri": "https://localhost:8080/"
        },
        "id": "kepTPyKKFUw-",
        "outputId": "4379c055-8d70-407a-978f-71256def562f"
      },
      "execution_count": 50,
      "outputs": [
        {
          "output_type": "stream",
          "name": "stdout",
          "text": [
            "Model: \"model\"\n",
            "_________________________________________________________________\n",
            " Layer (type)                Output Shape              Param #   \n",
            "=================================================================\n",
            " input_2 (InputLayer)        [(None, None, None, 3)]   0         \n",
            "                                                                 \n",
            " block1_conv1 (Conv2D)       (None, None, None, 64)    1792      \n",
            "                                                                 \n",
            " block1_conv2 (Conv2D)       (None, None, None, 64)    36928     \n",
            "                                                                 \n",
            " block1_pool (MaxPooling2D)  (None, None, None, 64)    0         \n",
            "                                                                 \n",
            " block2_conv1 (Conv2D)       (None, None, None, 128)   73856     \n",
            "                                                                 \n",
            " block2_conv2 (Conv2D)       (None, None, None, 128)   147584    \n",
            "                                                                 \n",
            " block2_pool (MaxPooling2D)  (None, None, None, 128)   0         \n",
            "                                                                 \n",
            " block3_conv1 (Conv2D)       (None, None, None, 256)   295168    \n",
            "                                                                 \n",
            " block3_conv2 (Conv2D)       (None, None, None, 256)   590080    \n",
            "                                                                 \n",
            " block3_conv3 (Conv2D)       (None, None, None, 256)   590080    \n",
            "                                                                 \n",
            " block3_pool (MaxPooling2D)  (None, None, None, 256)   0         \n",
            "                                                                 \n",
            " block4_conv1 (Conv2D)       (None, None, None, 512)   1180160   \n",
            "                                                                 \n",
            " block4_conv2 (Conv2D)       (None, None, None, 512)   2359808   \n",
            "                                                                 \n",
            " block4_conv3 (Conv2D)       (None, None, None, 512)   2359808   \n",
            "                                                                 \n",
            " block4_pool (MaxPooling2D)  (None, None, None, 512)   0         \n",
            "                                                                 \n",
            " block5_conv1 (Conv2D)       (None, None, None, 512)   2359808   \n",
            "                                                                 \n",
            " block5_conv2 (Conv2D)       (None, None, None, 512)   2359808   \n",
            "                                                                 \n",
            " block5_conv3 (Conv2D)       (None, None, None, 512)   2359808   \n",
            "                                                                 \n",
            " block5_pool (MaxPooling2D)  (None, None, None, 512)   0         \n",
            "                                                                 \n",
            " global_average_pooling2d (G  (None, 512)              0         \n",
            " lobalAveragePooling2D)                                          \n",
            "                                                                 \n",
            " dropout (Dropout)           (None, 512)               0         \n",
            "                                                                 \n",
            " dense_12 (Dense)            (None, 1)                 513       \n",
            "                                                                 \n",
            "=================================================================\n",
            "Total params: 14,715,201\n",
            "Trainable params: 14,715,201\n",
            "Non-trainable params: 0\n",
            "_________________________________________________________________\n"
          ]
        }
      ]
    },
    {
      "cell_type": "code",
      "source": [
        "#Evaluate on the test data\n",
        "test_loss, test_score = model.evaluate(test_data)\n",
        "print(\"Loss on test set: \", test_loss)\n",
        "print(\"Accuracy on test set: \", test_score)"
      ],
      "metadata": {
        "colab": {
          "base_uri": "https://localhost:8080/"
        },
        "id": "JLADB7loFW_d",
        "outputId": "83492a45-a683-4ec7-ec1f-1b23e0fb6add"
      },
      "execution_count": 51,
      "outputs": [
        {
          "output_type": "stream",
          "name": "stdout",
          "text": [
            "7/7 [==============================] - 104s 17s/step - loss: 0.9194 - accuracy: 0.5000\n",
            "Loss on test set:  0.9193534851074219\n",
            "Accuracy on test set:  0.5\n"
          ]
        }
      ]
    },
    {
      "cell_type": "code",
      "source": [
        "preds = model.predict(test_data)\n",
        "test_data_labels = df_test.Intersection.map(dict(yes=1, no=0))"
      ],
      "metadata": {
        "id": "ljOME4-BFcSd"
      },
      "execution_count": 52,
      "outputs": []
    },
    {
      "cell_type": "code",
      "source": [
        "# Classification report \n",
        "from sklearn.metrics import accuracy_score,classification_report, roc_curve, confusion_matrix\n",
        "\n",
        "acc = accuracy_score(test_data_labels, np.round(preds))*100\n",
        "print(\"Test data accuracy : \"+str(acc))\n",
        "print(\"Classification report\")\n",
        "print(classification_report(test_data_labels ,np.round(preds)))"
      ],
      "metadata": {
        "colab": {
          "base_uri": "https://localhost:8080/"
        },
        "id": "Fv9fmA-FFoFR",
        "outputId": "9fcef297-2180-42ca-c27f-aae5c5006051"
      },
      "execution_count": 53,
      "outputs": [
        {
          "output_type": "stream",
          "name": "stdout",
          "text": [
            "Test data accuracy : 70.96774193548387\n",
            "Classification report\n",
            "              precision    recall  f1-score   support\n",
            "\n",
            "           0       0.70      0.56      0.62        93\n",
            "           1       0.71      0.82      0.76       124\n",
            "\n",
            "    accuracy                           0.71       217\n",
            "   macro avg       0.71      0.69      0.69       217\n",
            "weighted avg       0.71      0.71      0.70       217\n",
            "\n"
          ]
        }
      ]
    },
    {
      "cell_type": "code",
      "source": [
        "#Plot the confusion matrix\n",
        "import seaborn as sns\n",
        "conf_matrix = confusion_matrix(test_data_labels, np.round(preds))\n",
        "plt.figure(figsize=(12.8,6))\n",
        "sns.heatmap(conf_matrix, \n",
        "            annot=True,\n",
        "            xticklabels=['Yes', 'No'], \n",
        "            yticklabels=['Yes', 'No'],\n",
        "            cmap=\"Blues\",\n",
        "            fmt='g')\n",
        "plt.ylabel('Actual')\n",
        "plt.xlabel('Predicted')\n",
        "plt.title('Confusion matrix')\n",
        "plt.show()"
      ],
      "metadata": {
        "colab": {
          "base_uri": "https://localhost:8080/",
          "height": 404
        },
        "id": "RaZy3eTaGGSy",
        "outputId": "a26827b8-3db6-48c7-8d73-af00ef64d994"
      },
      "execution_count": 54,
      "outputs": [
        {
          "output_type": "display_data",
          "data": {
            "text/plain": [
              "<Figure size 921.6x432 with 2 Axes>"
            ],
            "image/png": "[encoded data removed]"
          },
          "metadata": {
            "needs_background": "light"
          }
        }
      ]
    },
    {
      "cell_type": "markdown",
      "source": [
        "Our VGG16 model is able to give the Test accuracy 70.96, Validation Accuracy as 76% and training accyuracy as 84.1%"
      ],
      "metadata": {
        "id": "MEK444TdPmjw"
      }
    },
    {
      "cell_type": "markdown",
      "source": [
        "The model seems to be over fitting. lets try another model"
      ],
      "metadata": {
        "id": "laxYDA-OP1Gh"
      }
    }
  ]
}